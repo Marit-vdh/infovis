{
 "cells": [
  {
   "cell_type": "code",
   "execution_count": 2,
   "metadata": {},
   "outputs": [],
   "source": [
    "import pandas as pd\n",
    "import plotly.express as px\n"
   ]
  },
  {
   "cell_type": "code",
   "execution_count": 51,
   "metadata": {},
   "outputs": [
    {
     "data": {
      "text/html": [
       "<div>\n",
       "<style scoped>\n",
       "    .dataframe tbody tr th:only-of-type {\n",
       "        vertical-align: middle;\n",
       "    }\n",
       "\n",
       "    .dataframe tbody tr th {\n",
       "        vertical-align: top;\n",
       "    }\n",
       "\n",
       "    .dataframe thead th {\n",
       "        text-align: right;\n",
       "    }\n",
       "</style>\n",
       "<table border=\"1\" class=\"dataframe\">\n",
       "  <thead>\n",
       "    <tr style=\"text-align: right;\">\n",
       "      <th></th>\n",
       "      <th>Year</th>\n",
       "      <th>(semi-) final</th>\n",
       "      <th>Edition</th>\n",
       "      <th>Jury or Televoting</th>\n",
       "      <th>From country</th>\n",
       "      <th>To country</th>\n",
       "      <th>Points</th>\n",
       "      <th>Duplicate</th>\n",
       "    </tr>\n",
       "  </thead>\n",
       "  <tbody>\n",
       "    <tr>\n",
       "      <th>0</th>\n",
       "      <td>1975</td>\n",
       "      <td>f</td>\n",
       "      <td>1975f</td>\n",
       "      <td>J</td>\n",
       "      <td>Belgium</td>\n",
       "      <td>Belgium</td>\n",
       "      <td>0</td>\n",
       "      <td>x</td>\n",
       "    </tr>\n",
       "    <tr>\n",
       "      <th>1</th>\n",
       "      <td>1975</td>\n",
       "      <td>f</td>\n",
       "      <td>1975f</td>\n",
       "      <td>J</td>\n",
       "      <td>Belgium</td>\n",
       "      <td>Finland</td>\n",
       "      <td>0</td>\n",
       "      <td>NaN</td>\n",
       "    </tr>\n",
       "    <tr>\n",
       "      <th>2</th>\n",
       "      <td>1975</td>\n",
       "      <td>f</td>\n",
       "      <td>1975f</td>\n",
       "      <td>J</td>\n",
       "      <td>Belgium</td>\n",
       "      <td>France</td>\n",
       "      <td>2</td>\n",
       "      <td>NaN</td>\n",
       "    </tr>\n",
       "    <tr>\n",
       "      <th>3</th>\n",
       "      <td>1975</td>\n",
       "      <td>f</td>\n",
       "      <td>1975f</td>\n",
       "      <td>J</td>\n",
       "      <td>Belgium</td>\n",
       "      <td>Germany</td>\n",
       "      <td>0</td>\n",
       "      <td>NaN</td>\n",
       "    </tr>\n",
       "    <tr>\n",
       "      <th>4</th>\n",
       "      <td>1975</td>\n",
       "      <td>f</td>\n",
       "      <td>1975f</td>\n",
       "      <td>J</td>\n",
       "      <td>Belgium</td>\n",
       "      <td>Ireland</td>\n",
       "      <td>12</td>\n",
       "      <td>NaN</td>\n",
       "    </tr>\n",
       "  </tbody>\n",
       "</table>\n",
       "</div>"
      ],
      "text/plain": [
       "   Year (semi-) final Edition Jury or Televoting From country To country  \\\n",
       "0  1975             f   1975f                  J      Belgium    Belgium   \n",
       "1  1975             f   1975f                  J      Belgium    Finland   \n",
       "2  1975             f   1975f                  J      Belgium     France   \n",
       "3  1975             f   1975f                  J      Belgium    Germany   \n",
       "4  1975             f   1975f                  J      Belgium    Ireland   \n",
       "\n",
       "   Points Duplicate  \n",
       "0       0         x  \n",
       "1       0       NaN  \n",
       "2       2       NaN  \n",
       "3       0       NaN  \n",
       "4      12       NaN  "
      ]
     },
     "execution_count": 51,
     "metadata": {},
     "output_type": "execute_result"
    }
   ],
   "source": [
    "# Importeer het dataframe met de punten die gegeven zijn per songfestival\n",
    "euro_df = pd.read_csv('eurovision_song_contest_1975_2019.csv')\n",
    "euro_df.columns=[column.strip() for column in euro_df.columns]\n",
    "euro_df.head()"
   ]
  },
  {
   "cell_type": "code",
   "execution_count": 94,
   "metadata": {},
   "outputs": [],
   "source": [
    "def total_points(dataframe):\n",
    "    \"\"\"\n",
    "    Itereert door het eurovisie dataframe en maakt een dictionary met daarin alle landen\n",
    "    als key en de punten die de landen hebben gehaald in de vorm van een lijst als value.\n",
    "    Vervolgens berekent de functie het gemiddelde van de totale punten. \n",
    "    Er wordt een pandas dataframe met de landen als kolom en de gemiddelde punten teruggegeven.\n",
    "    \"\"\"\n",
    "    # Maak een lege dictionary aan\n",
    "    points = {}\n",
    "\n",
    "    # Itereer over de dataframe\n",
    "    for index, row in dataframe.iterrows():\n",
    "\n",
    "        # Controleer of het om een finale gaat\n",
    "        # Zo niet, ga dan naar het volgende item in de dataframe\n",
    "        if row[1] == 'f':\n",
    "\n",
    "            # Als het land al in de dictionary staat, moeten de punten worden\n",
    "            # toegevoegd aan de lijst\n",
    "            if row[5] in points:\n",
    "                points[row[5]].append(row[6])\n",
    "\n",
    "            # Als het land nog niet in de dictionary staat moet deze worden\n",
    "            # toegevoegd met de punten\n",
    "            else:\n",
    "                points.update({row[5]:[row[6]]})\n",
    "    \n",
    "    # Maak een nieuwe dictionary om de gemiddelde punten per land in te kunnen doen\n",
    "    totals = {}\n",
    "\n",
    "    # Itereer over de points dictionary\n",
    "    # Bereken de gemiddeldes van de lijst met punten\n",
    "    for country in points:\n",
    "        totals.update({country:sum(points[country])/len(points[country])})\n",
    "\n",
    "    # Return een dataframe op basis van de totals dictionary\n",
    "    return pd.DataFrame([{\"Country\":country, \"Points\":points} for country, points in totals.items()])\n",
    "\n",
    "average_points = total_points(euro_df)\n"
   ]
  },
  {
   "cell_type": "code",
   "execution_count": 114,
   "metadata": {},
   "outputs": [
    {
     "data": {
      "application/vnd.plotly.v1+json": {
       "config": {
        "plotlyServerURL": "https://plot.ly"
       },
       "data": [
        {
         "coloraxis": "coloraxis",
         "geo": "geo",
         "hovertemplate": "Country=%{location}<br>Points=%{z}<extra></extra>",
         "locationmode": "country names",
         "locations": [
          "Belgium",
          "Finland",
          "France",
          "Germany",
          "Ireland",
          "Israel",
          "Italy",
          "Luxembourg",
          "Malta",
          "Monaco",
          "Norway",
          "Portugal",
          "Spain",
          "Sweden",
          "Switzerland",
          "The Netherlands",
          "Turkey",
          "United Kingdom",
          "Yugoslavia",
          "Austria",
          "Greece",
          "Denmark",
          "Morocco",
          "Cyprus",
          "Iceland",
          "Bosnia & Herzegovina",
          "Croatia",
          "Slovenia",
          "Estonia",
          "Hungary",
          "Lithuania",
          "Poland",
          "Romania",
          "Russia",
          "Slovakia",
          "F.Y.R. Macedonia",
          "Latvia",
          "Ukraine",
          "Albania",
          "Serbia & Montenegro",
          "Moldova",
          "Armenia",
          "Belarus",
          "Bulgaria",
          "Georgia",
          "Serbia",
          "Azerbaijan",
          "Montenegro",
          "San Marino",
          "Australia",
          "Czech Republic",
          "North Macedonia"
         ],
         "name": "",
         "type": "choropleth",
         "z": [
          2.5532646048109964,
          1.403648802736602,
          2.297183098591549,
          2.1674911660777387,
          3.24789029535865,
          2.735294117647059,
          3.6836158192090394,
          2.422279792746114,
          2.3973856209150326,
          3.5106382978723403,
          2.5437048917401763,
          2.0366552119129437,
          1.6536856745479833,
          3.608254887762491,
          2.7958387516254875,
          2.7395727365208544,
          2.2995391705069124,
          2.403337969401947,
          2.744360902255639,
          2.047569803516029,
          2.5117698343504795,
          2.52258064516129,
          0.3684210526315789,
          2,
          2.0064935064935066,
          2.1376936316695354,
          1.9301587301587302,
          1.3290441176470589,
          2.494057724957555,
          1.7622820919175912,
          1.461672473867596,
          1.5739299610894941,
          2.1397379912663754,
          4.070110701107011,
          0.5753424657534246,
          1.3666666666666667,
          2.7288135593220337,
          3.3217270194986073,
          1.7399103139013452,
          5.333333333333333,
          2.4433198380566803,
          2.6309278350515464,
          1.1609907120743035,
          4.23469387755102,
          1.929663608562691,
          2.3608870967741935,
          2.980701754385965,
          1.0657894736842106,
          0.7863247863247863,
          3.398921832884097,
          1.9112903225806452,
          3.65
         ]
        }
       ],
       "layout": {
        "coloraxis": {
         "colorbar": {
          "title": {
           "text": "Points"
          }
         },
         "colorscale": [
          [
           0,
           "#0d0887"
          ],
          [
           0.1111111111111111,
           "#46039f"
          ],
          [
           0.2222222222222222,
           "#7201a8"
          ],
          [
           0.3333333333333333,
           "#9c179e"
          ],
          [
           0.4444444444444444,
           "#bd3786"
          ],
          [
           0.5555555555555556,
           "#d8576b"
          ],
          [
           0.6666666666666666,
           "#ed7953"
          ],
          [
           0.7777777777777778,
           "#fb9f3a"
          ],
          [
           0.8888888888888888,
           "#fdca26"
          ],
          [
           1,
           "#f0f921"
          ]
         ]
        },
        "geo": {
         "center": {},
         "domain": {
          "x": [
           0,
           1
          ],
          "y": [
           0,
           1
          ]
         }
        },
        "height": 1000,
        "legend": {
         "tracegroupgap": 0
        },
        "template": {
         "data": {
          "bar": [
           {
            "error_x": {
             "color": "#2a3f5f"
            },
            "error_y": {
             "color": "#2a3f5f"
            },
            "marker": {
             "line": {
              "color": "#E5ECF6",
              "width": 0.5
             },
             "pattern": {
              "fillmode": "overlay",
              "size": 10,
              "solidity": 0.2
             }
            },
            "type": "bar"
           }
          ],
          "barpolar": [
           {
            "marker": {
             "line": {
              "color": "#E5ECF6",
              "width": 0.5
             },
             "pattern": {
              "fillmode": "overlay",
              "size": 10,
              "solidity": 0.2
             }
            },
            "type": "barpolar"
           }
          ],
          "carpet": [
           {
            "aaxis": {
             "endlinecolor": "#2a3f5f",
             "gridcolor": "white",
             "linecolor": "white",
             "minorgridcolor": "white",
             "startlinecolor": "#2a3f5f"
            },
            "baxis": {
             "endlinecolor": "#2a3f5f",
             "gridcolor": "white",
             "linecolor": "white",
             "minorgridcolor": "white",
             "startlinecolor": "#2a3f5f"
            },
            "type": "carpet"
           }
          ],
          "choropleth": [
           {
            "colorbar": {
             "outlinewidth": 0,
             "ticks": ""
            },
            "type": "choropleth"
           }
          ],
          "contour": [
           {
            "colorbar": {
             "outlinewidth": 0,
             "ticks": ""
            },
            "colorscale": [
             [
              0,
              "#0d0887"
             ],
             [
              0.1111111111111111,
              "#46039f"
             ],
             [
              0.2222222222222222,
              "#7201a8"
             ],
             [
              0.3333333333333333,
              "#9c179e"
             ],
             [
              0.4444444444444444,
              "#bd3786"
             ],
             [
              0.5555555555555556,
              "#d8576b"
             ],
             [
              0.6666666666666666,
              "#ed7953"
             ],
             [
              0.7777777777777778,
              "#fb9f3a"
             ],
             [
              0.8888888888888888,
              "#fdca26"
             ],
             [
              1,
              "#f0f921"
             ]
            ],
            "type": "contour"
           }
          ],
          "contourcarpet": [
           {
            "colorbar": {
             "outlinewidth": 0,
             "ticks": ""
            },
            "type": "contourcarpet"
           }
          ],
          "heatmap": [
           {
            "colorbar": {
             "outlinewidth": 0,
             "ticks": ""
            },
            "colorscale": [
             [
              0,
              "#0d0887"
             ],
             [
              0.1111111111111111,
              "#46039f"
             ],
             [
              0.2222222222222222,
              "#7201a8"
             ],
             [
              0.3333333333333333,
              "#9c179e"
             ],
             [
              0.4444444444444444,
              "#bd3786"
             ],
             [
              0.5555555555555556,
              "#d8576b"
             ],
             [
              0.6666666666666666,
              "#ed7953"
             ],
             [
              0.7777777777777778,
              "#fb9f3a"
             ],
             [
              0.8888888888888888,
              "#fdca26"
             ],
             [
              1,
              "#f0f921"
             ]
            ],
            "type": "heatmap"
           }
          ],
          "heatmapgl": [
           {
            "colorbar": {
             "outlinewidth": 0,
             "ticks": ""
            },
            "colorscale": [
             [
              0,
              "#0d0887"
             ],
             [
              0.1111111111111111,
              "#46039f"
             ],
             [
              0.2222222222222222,
              "#7201a8"
             ],
             [
              0.3333333333333333,
              "#9c179e"
             ],
             [
              0.4444444444444444,
              "#bd3786"
             ],
             [
              0.5555555555555556,
              "#d8576b"
             ],
             [
              0.6666666666666666,
              "#ed7953"
             ],
             [
              0.7777777777777778,
              "#fb9f3a"
             ],
             [
              0.8888888888888888,
              "#fdca26"
             ],
             [
              1,
              "#f0f921"
             ]
            ],
            "type": "heatmapgl"
           }
          ],
          "histogram": [
           {
            "marker": {
             "pattern": {
              "fillmode": "overlay",
              "size": 10,
              "solidity": 0.2
             }
            },
            "type": "histogram"
           }
          ],
          "histogram2d": [
           {
            "colorbar": {
             "outlinewidth": 0,
             "ticks": ""
            },
            "colorscale": [
             [
              0,
              "#0d0887"
             ],
             [
              0.1111111111111111,
              "#46039f"
             ],
             [
              0.2222222222222222,
              "#7201a8"
             ],
             [
              0.3333333333333333,
              "#9c179e"
             ],
             [
              0.4444444444444444,
              "#bd3786"
             ],
             [
              0.5555555555555556,
              "#d8576b"
             ],
             [
              0.6666666666666666,
              "#ed7953"
             ],
             [
              0.7777777777777778,
              "#fb9f3a"
             ],
             [
              0.8888888888888888,
              "#fdca26"
             ],
             [
              1,
              "#f0f921"
             ]
            ],
            "type": "histogram2d"
           }
          ],
          "histogram2dcontour": [
           {
            "colorbar": {
             "outlinewidth": 0,
             "ticks": ""
            },
            "colorscale": [
             [
              0,
              "#0d0887"
             ],
             [
              0.1111111111111111,
              "#46039f"
             ],
             [
              0.2222222222222222,
              "#7201a8"
             ],
             [
              0.3333333333333333,
              "#9c179e"
             ],
             [
              0.4444444444444444,
              "#bd3786"
             ],
             [
              0.5555555555555556,
              "#d8576b"
             ],
             [
              0.6666666666666666,
              "#ed7953"
             ],
             [
              0.7777777777777778,
              "#fb9f3a"
             ],
             [
              0.8888888888888888,
              "#fdca26"
             ],
             [
              1,
              "#f0f921"
             ]
            ],
            "type": "histogram2dcontour"
           }
          ],
          "mesh3d": [
           {
            "colorbar": {
             "outlinewidth": 0,
             "ticks": ""
            },
            "type": "mesh3d"
           }
          ],
          "parcoords": [
           {
            "line": {
             "colorbar": {
              "outlinewidth": 0,
              "ticks": ""
             }
            },
            "type": "parcoords"
           }
          ],
          "pie": [
           {
            "automargin": true,
            "type": "pie"
           }
          ],
          "scatter": [
           {
            "fillpattern": {
             "fillmode": "overlay",
             "size": 10,
             "solidity": 0.2
            },
            "type": "scatter"
           }
          ],
          "scatter3d": [
           {
            "line": {
             "colorbar": {
              "outlinewidth": 0,
              "ticks": ""
             }
            },
            "marker": {
             "colorbar": {
              "outlinewidth": 0,
              "ticks": ""
             }
            },
            "type": "scatter3d"
           }
          ],
          "scattercarpet": [
           {
            "marker": {
             "colorbar": {
              "outlinewidth": 0,
              "ticks": ""
             }
            },
            "type": "scattercarpet"
           }
          ],
          "scattergeo": [
           {
            "marker": {
             "colorbar": {
              "outlinewidth": 0,
              "ticks": ""
             }
            },
            "type": "scattergeo"
           }
          ],
          "scattergl": [
           {
            "marker": {
             "colorbar": {
              "outlinewidth": 0,
              "ticks": ""
             }
            },
            "type": "scattergl"
           }
          ],
          "scattermapbox": [
           {
            "marker": {
             "colorbar": {
              "outlinewidth": 0,
              "ticks": ""
             }
            },
            "type": "scattermapbox"
           }
          ],
          "scatterpolar": [
           {
            "marker": {
             "colorbar": {
              "outlinewidth": 0,
              "ticks": ""
             }
            },
            "type": "scatterpolar"
           }
          ],
          "scatterpolargl": [
           {
            "marker": {
             "colorbar": {
              "outlinewidth": 0,
              "ticks": ""
             }
            },
            "type": "scatterpolargl"
           }
          ],
          "scatterternary": [
           {
            "marker": {
             "colorbar": {
              "outlinewidth": 0,
              "ticks": ""
             }
            },
            "type": "scatterternary"
           }
          ],
          "surface": [
           {
            "colorbar": {
             "outlinewidth": 0,
             "ticks": ""
            },
            "colorscale": [
             [
              0,
              "#0d0887"
             ],
             [
              0.1111111111111111,
              "#46039f"
             ],
             [
              0.2222222222222222,
              "#7201a8"
             ],
             [
              0.3333333333333333,
              "#9c179e"
             ],
             [
              0.4444444444444444,
              "#bd3786"
             ],
             [
              0.5555555555555556,
              "#d8576b"
             ],
             [
              0.6666666666666666,
              "#ed7953"
             ],
             [
              0.7777777777777778,
              "#fb9f3a"
             ],
             [
              0.8888888888888888,
              "#fdca26"
             ],
             [
              1,
              "#f0f921"
             ]
            ],
            "type": "surface"
           }
          ],
          "table": [
           {
            "cells": {
             "fill": {
              "color": "#EBF0F8"
             },
             "line": {
              "color": "white"
             }
            },
            "header": {
             "fill": {
              "color": "#C8D4E3"
             },
             "line": {
              "color": "white"
             }
            },
            "type": "table"
           }
          ]
         },
         "layout": {
          "annotationdefaults": {
           "arrowcolor": "#2a3f5f",
           "arrowhead": 0,
           "arrowwidth": 1
          },
          "autotypenumbers": "strict",
          "coloraxis": {
           "colorbar": {
            "outlinewidth": 0,
            "ticks": ""
           }
          },
          "colorscale": {
           "diverging": [
            [
             0,
             "#8e0152"
            ],
            [
             0.1,
             "#c51b7d"
            ],
            [
             0.2,
             "#de77ae"
            ],
            [
             0.3,
             "#f1b6da"
            ],
            [
             0.4,
             "#fde0ef"
            ],
            [
             0.5,
             "#f7f7f7"
            ],
            [
             0.6,
             "#e6f5d0"
            ],
            [
             0.7,
             "#b8e186"
            ],
            [
             0.8,
             "#7fbc41"
            ],
            [
             0.9,
             "#4d9221"
            ],
            [
             1,
             "#276419"
            ]
           ],
           "sequential": [
            [
             0,
             "#0d0887"
            ],
            [
             0.1111111111111111,
             "#46039f"
            ],
            [
             0.2222222222222222,
             "#7201a8"
            ],
            [
             0.3333333333333333,
             "#9c179e"
            ],
            [
             0.4444444444444444,
             "#bd3786"
            ],
            [
             0.5555555555555556,
             "#d8576b"
            ],
            [
             0.6666666666666666,
             "#ed7953"
            ],
            [
             0.7777777777777778,
             "#fb9f3a"
            ],
            [
             0.8888888888888888,
             "#fdca26"
            ],
            [
             1,
             "#f0f921"
            ]
           ],
           "sequentialminus": [
            [
             0,
             "#0d0887"
            ],
            [
             0.1111111111111111,
             "#46039f"
            ],
            [
             0.2222222222222222,
             "#7201a8"
            ],
            [
             0.3333333333333333,
             "#9c179e"
            ],
            [
             0.4444444444444444,
             "#bd3786"
            ],
            [
             0.5555555555555556,
             "#d8576b"
            ],
            [
             0.6666666666666666,
             "#ed7953"
            ],
            [
             0.7777777777777778,
             "#fb9f3a"
            ],
            [
             0.8888888888888888,
             "#fdca26"
            ],
            [
             1,
             "#f0f921"
            ]
           ]
          },
          "colorway": [
           "#636efa",
           "#EF553B",
           "#00cc96",
           "#ab63fa",
           "#FFA15A",
           "#19d3f3",
           "#FF6692",
           "#B6E880",
           "#FF97FF",
           "#FECB52"
          ],
          "font": {
           "color": "#2a3f5f"
          },
          "geo": {
           "bgcolor": "white",
           "lakecolor": "white",
           "landcolor": "#E5ECF6",
           "showlakes": true,
           "showland": true,
           "subunitcolor": "white"
          },
          "hoverlabel": {
           "align": "left"
          },
          "hovermode": "closest",
          "mapbox": {
           "style": "light"
          },
          "paper_bgcolor": "white",
          "plot_bgcolor": "#E5ECF6",
          "polar": {
           "angularaxis": {
            "gridcolor": "white",
            "linecolor": "white",
            "ticks": ""
           },
           "bgcolor": "#E5ECF6",
           "radialaxis": {
            "gridcolor": "white",
            "linecolor": "white",
            "ticks": ""
           }
          },
          "scene": {
           "xaxis": {
            "backgroundcolor": "#E5ECF6",
            "gridcolor": "white",
            "gridwidth": 2,
            "linecolor": "white",
            "showbackground": true,
            "ticks": "",
            "zerolinecolor": "white"
           },
           "yaxis": {
            "backgroundcolor": "#E5ECF6",
            "gridcolor": "white",
            "gridwidth": 2,
            "linecolor": "white",
            "showbackground": true,
            "ticks": "",
            "zerolinecolor": "white"
           },
           "zaxis": {
            "backgroundcolor": "#E5ECF6",
            "gridcolor": "white",
            "gridwidth": 2,
            "linecolor": "white",
            "showbackground": true,
            "ticks": "",
            "zerolinecolor": "white"
           }
          },
          "shapedefaults": {
           "line": {
            "color": "#2a3f5f"
           }
          },
          "ternary": {
           "aaxis": {
            "gridcolor": "white",
            "linecolor": "white",
            "ticks": ""
           },
           "baxis": {
            "gridcolor": "white",
            "linecolor": "white",
            "ticks": ""
           },
           "bgcolor": "#E5ECF6",
           "caxis": {
            "gridcolor": "white",
            "linecolor": "white",
            "ticks": ""
           }
          },
          "title": {
           "x": 0.05
          },
          "xaxis": {
           "automargin": true,
           "gridcolor": "white",
           "linecolor": "white",
           "ticks": "",
           "title": {
            "standoff": 15
           },
           "zerolinecolor": "white",
           "zerolinewidth": 2
          },
          "yaxis": {
           "automargin": true,
           "gridcolor": "white",
           "linecolor": "white",
           "ticks": "",
           "title": {
            "standoff": 15
           },
           "zerolinecolor": "white",
           "zerolinewidth": 2
          }
         }
        },
        "title": {
         "text": "Gemiddelde aantal punten dat landen hebben gekregen in de finale"
        }
       }
      }
     },
     "metadata": {},
     "output_type": "display_data"
    }
   ],
   "source": [
    "# Maak een figuur van de wereldkaart met de gemiddelde punten die landen gehaald hebben in\n",
    "# de finales van het songfestival\n",
    "average_points_fig = px.choropleth(average_points,\n",
    "                    locationmode='country names', \n",
    "                    locations='Country', \n",
    "                    color='Points',\n",
    "                    title='Gemiddelde aantal punten dat landen hebben gekregen in de finale',\n",
    "                    height=1000)\n",
    "\n",
    "# Laat het figuur zien\n",
    "average_points_fig.show()"
   ]
  },
  {
   "cell_type": "code",
   "execution_count": 111,
   "metadata": {},
   "outputs": [],
   "source": [
    "def total_per_year(dataframe):\n",
    "    total_year = {}\n",
    "    \n",
    "    for index, row in dataframe.iterrows():\n",
    "        if row[1] == 'f':\n",
    "            if row[5] in total_year:\n",
    "                if row[0] in total_year[row[5]]:\n",
    "                    total_year[row[5]][row[0]] += row[6]\n",
    "                else:\n",
    "                    total_year[row[5]].update({row[0]: row[6]})\n",
    "            else:\n",
    "                total_year.update({row[5]: {row[0]:row[6]}})\n",
    "    \n",
    "    total_per_year_df = pd.DataFrame({'Country':[], 'Year':[], 'Points':[]})\n",
    "\n",
    "    for country, scores in total_year.items():\n",
    "        for year, score in scores.items():\n",
    "            total_per_year_df.loc[len(total_per_year_df)] = [country, year, score]\n",
    "\n",
    "    return total_per_year_df\n",
    "\n",
    "points_per_year = total_per_year(euro_df)\n"
   ]
  },
  {
   "cell_type": "code",
   "execution_count": 112,
   "metadata": {},
   "outputs": [
    {
     "data": {
      "application/vnd.plotly.v1+json": {
       "config": {
        "plotlyServerURL": "https://plot.ly"
       },
       "data": [
        {
         "coloraxis": "coloraxis",
         "geo": "geo",
         "hovertemplate": "Year=1975<br>Country=%{location}<br>Points=%{z}<extra></extra>",
         "locationmode": "country names",
         "locations": [
          "Belgium",
          "Finland",
          "France",
          "Germany",
          "Ireland",
          "Israel",
          "Italy",
          "Luxembourg",
          "Malta",
          "Monaco",
          "Norway",
          "Portugal",
          "Spain",
          "Sweden",
          "Switzerland",
          "The Netherlands",
          "Turkey",
          "United Kingdom",
          "Yugoslavia"
         ],
         "name": "",
         "type": "choropleth",
         "z": [
          17,
          74,
          91,
          15,
          68,
          40,
          115,
          84,
          32,
          22,
          11,
          16,
          53,
          72,
          77,
          152,
          3,
          138,
          22
         ]
        }
       ],
       "frames": [
        {
         "data": [
          {
           "coloraxis": "coloraxis",
           "geo": "geo",
           "hovertemplate": "Year=1975<br>Country=%{location}<br>Points=%{z}<extra></extra>",
           "locationmode": "country names",
           "locations": [
            "Belgium",
            "Finland",
            "France",
            "Germany",
            "Ireland",
            "Israel",
            "Italy",
            "Luxembourg",
            "Malta",
            "Monaco",
            "Norway",
            "Portugal",
            "Spain",
            "Sweden",
            "Switzerland",
            "The Netherlands",
            "Turkey",
            "United Kingdom",
            "Yugoslavia"
           ],
           "name": "",
           "type": "choropleth",
           "z": [
            17,
            74,
            91,
            15,
            68,
            40,
            115,
            84,
            32,
            22,
            11,
            16,
            53,
            72,
            77,
            152,
            3,
            138,
            22
           ]
          }
         ],
         "name": "1975"
        },
        {
         "data": [
          {
           "coloraxis": "coloraxis",
           "geo": "geo",
           "hovertemplate": "Year=1976<br>Country=%{location}<br>Points=%{z}<extra></extra>",
           "locationmode": "country names",
           "locations": [
            "Belgium",
            "Finland",
            "France",
            "Germany",
            "Ireland",
            "Israel",
            "Italy",
            "Luxembourg",
            "Monaco",
            "Norway",
            "Portugal",
            "Spain",
            "Switzerland",
            "The Netherlands",
            "United Kingdom",
            "Yugoslavia",
            "Austria",
            "Greece"
           ],
           "name": "",
           "type": "choropleth",
           "z": [
            68,
            44,
            147,
            12,
            54,
            77,
            69,
            17,
            93,
            7,
            24,
            11,
            91,
            56,
            164,
            10,
            80,
            20
           ]
          }
         ],
         "name": "1976"
        },
        {
         "data": [
          {
           "coloraxis": "coloraxis",
           "geo": "geo",
           "hovertemplate": "Year=1977<br>Country=%{location}<br>Points=%{z}<extra></extra>",
           "locationmode": "country names",
           "locations": [
            "Belgium",
            "Finland",
            "France",
            "Germany",
            "Ireland",
            "Israel",
            "Italy",
            "Luxembourg",
            "Monaco",
            "Norway",
            "Portugal",
            "Spain",
            "Sweden",
            "Switzerland",
            "The Netherlands",
            "United Kingdom",
            "Austria",
            "Greece"
           ],
           "name": "",
           "type": "choropleth",
           "z": [
            69,
            50,
            136,
            55,
            119,
            49,
            33,
            17,
            96,
            18,
            18,
            52,
            2,
            71,
            35,
            121,
            11,
            92
           ]
          }
         ],
         "name": "1977"
        },
        {
         "data": [
          {
           "coloraxis": "coloraxis",
           "geo": "geo",
           "hovertemplate": "Year=1978<br>Country=%{location}<br>Points=%{z}<extra></extra>",
           "locationmode": "country names",
           "locations": [
            "Belgium",
            "Finland",
            "France",
            "Germany",
            "Ireland",
            "Israel",
            "Italy",
            "Luxembourg",
            "Monaco",
            "Norway",
            "Portugal",
            "Spain",
            "Sweden",
            "Switzerland",
            "The Netherlands",
            "Turkey",
            "United Kingdom",
            "Austria",
            "Greece",
            "Denmark"
           ],
           "name": "",
           "type": "choropleth",
           "z": [
            125,
            2,
            119,
            84,
            86,
            157,
            53,
            73,
            107,
            0,
            5,
            65,
            26,
            65,
            37,
            2,
            61,
            14,
            66,
            13
           ]
          }
         ],
         "name": "1978"
        },
        {
         "data": [
          {
           "coloraxis": "coloraxis",
           "geo": "geo",
           "hovertemplate": "Year=1979<br>Country=%{location}<br>Points=%{z}<extra></extra>",
           "locationmode": "country names",
           "locations": [
            "Belgium",
            "Finland",
            "France",
            "Germany",
            "Ireland",
            "Israel",
            "Italy",
            "Luxembourg",
            "Monaco",
            "Norway",
            "Portugal",
            "Spain",
            "Sweden",
            "Switzerland",
            "The Netherlands",
            "United Kingdom",
            "Austria",
            "Greece",
            "Denmark"
           ],
           "name": "",
           "type": "choropleth",
           "z": [
            5,
            38,
            106,
            86,
            80,
            125,
            27,
            44,
            12,
            57,
            64,
            116,
            8,
            60,
            51,
            73,
            5,
            69,
            76
           ]
          }
         ],
         "name": "1979"
        },
        {
         "data": [
          {
           "coloraxis": "coloraxis",
           "geo": "geo",
           "hovertemplate": "Year=1980<br>Country=%{location}<br>Points=%{z}<extra></extra>",
           "locationmode": "country names",
           "locations": [
            "Belgium",
            "Finland",
            "France",
            "Germany",
            "Ireland",
            "Italy",
            "Luxembourg",
            "Norway",
            "Portugal",
            "Spain",
            "Sweden",
            "Switzerland",
            "The Netherlands",
            "Turkey",
            "United Kingdom",
            "Austria",
            "Greece",
            "Denmark",
            "Morocco"
           ],
           "name": "",
           "type": "choropleth",
           "z": [
            14,
            6,
            45,
            128,
            143,
            87,
            56,
            15,
            71,
            38,
            47,
            104,
            93,
            23,
            106,
            64,
            30,
            25,
            7
           ]
          }
         ],
         "name": "1980"
        },
        {
         "data": [
          {
           "coloraxis": "coloraxis",
           "geo": "geo",
           "hovertemplate": "Year=1981<br>Country=%{location}<br>Points=%{z}<extra></extra>",
           "locationmode": "country names",
           "locations": [
            "Belgium",
            "Finland",
            "France",
            "Germany",
            "Ireland",
            "Israel",
            "Luxembourg",
            "Norway",
            "Portugal",
            "Spain",
            "Sweden",
            "Switzerland",
            "The Netherlands",
            "Turkey",
            "United Kingdom",
            "Yugoslavia",
            "Austria",
            "Greece",
            "Denmark",
            "Cyprus"
           ],
           "name": "",
           "type": "choropleth",
           "z": [
            40,
            27,
            125,
            132,
            105,
            56,
            41,
            0,
            9,
            38,
            50,
            121,
            51,
            9,
            136,
            35,
            20,
            55,
            41,
            69
           ]
          }
         ],
         "name": "1981"
        },
        {
         "data": [
          {
           "coloraxis": "coloraxis",
           "geo": "geo",
           "hovertemplate": "Year=1982<br>Country=%{location}<br>Points=%{z}<extra></extra>",
           "locationmode": "country names",
           "locations": [
            "Belgium",
            "Finland",
            "Germany",
            "Ireland",
            "Israel",
            "Luxembourg",
            "Norway",
            "Portugal",
            "Spain",
            "Sweden",
            "Switzerland",
            "The Netherlands",
            "Turkey",
            "United Kingdom",
            "Yugoslavia",
            "Austria",
            "Denmark",
            "Cyprus"
           ],
           "name": "",
           "type": "choropleth",
           "z": [
            96,
            0,
            161,
            49,
            100,
            78,
            40,
            32,
            52,
            67,
            97,
            8,
            20,
            76,
            21,
            57,
            5,
            85
           ]
          }
         ],
         "name": "1982"
        },
        {
         "data": [
          {
           "coloraxis": "coloraxis",
           "geo": "geo",
           "hovertemplate": "Year=1983<br>Country=%{location}<br>Points=%{z}<extra></extra>",
           "locationmode": "country names",
           "locations": [
            "Belgium",
            "Finland",
            "France",
            "Germany",
            "Israel",
            "Italy",
            "Luxembourg",
            "Norway",
            "Portugal",
            "Spain",
            "Sweden",
            "Switzerland",
            "The Netherlands",
            "Turkey",
            "United Kingdom",
            "Yugoslavia",
            "Austria",
            "Greece",
            "Denmark",
            "Cyprus"
           ],
           "name": "",
           "type": "choropleth",
           "z": [
            13,
            41,
            56,
            94,
            136,
            41,
            142,
            53,
            33,
            0,
            126,
            28,
            66,
            0,
            79,
            125,
            53,
            32,
            16,
            26
           ]
          }
         ],
         "name": "1983"
        },
        {
         "data": [
          {
           "coloraxis": "coloraxis",
           "geo": "geo",
           "hovertemplate": "Year=1984<br>Country=%{location}<br>Points=%{z}<extra></extra>",
           "locationmode": "country names",
           "locations": [
            "Belgium",
            "Finland",
            "France",
            "Germany",
            "Ireland",
            "Italy",
            "Luxembourg",
            "Norway",
            "Portugal",
            "Spain",
            "Sweden",
            "Switzerland",
            "The Netherlands",
            "Turkey",
            "United Kingdom",
            "Yugoslavia",
            "Austria",
            "Denmark",
            "Cyprus"
           ],
           "name": "",
           "type": "choropleth",
           "z": [
            70,
            46,
            61,
            34,
            137,
            70,
            39,
            29,
            38,
            106,
            145,
            30,
            34,
            37,
            63,
            26,
            5,
            101,
            31
           ]
          }
         ],
         "name": "1984"
        },
        {
         "data": [
          {
           "coloraxis": "coloraxis",
           "geo": "geo",
           "hovertemplate": "Year=1985<br>Country=%{location}<br>Points=%{z}<extra></extra>",
           "locationmode": "country names",
           "locations": [
            "Belgium",
            "Finland",
            "France",
            "Germany",
            "Ireland",
            "Israel",
            "Italy",
            "Luxembourg",
            "Norway",
            "Portugal",
            "Spain",
            "Sweden",
            "Switzerland",
            "Turkey",
            "United Kingdom",
            "Austria",
            "Greece",
            "Denmark",
            "Cyprus"
           ],
           "name": "",
           "type": "choropleth",
           "z": [
            7,
            58,
            56,
            105,
            91,
            93,
            78,
            37,
            123,
            9,
            36,
            103,
            39,
            36,
            100,
            60,
            15,
            41,
            15
           ]
          }
         ],
         "name": "1985"
        },
        {
         "data": [
          {
           "coloraxis": "coloraxis",
           "geo": "geo",
           "hovertemplate": "Year=1986<br>Country=%{location}<br>Points=%{z}<extra></extra>",
           "locationmode": "country names",
           "locations": [
            "Belgium",
            "Finland",
            "France",
            "Germany",
            "Ireland",
            "Israel",
            "Luxembourg",
            "Norway",
            "Portugal",
            "Spain",
            "Sweden",
            "Switzerland",
            "The Netherlands",
            "Turkey",
            "United Kingdom",
            "Yugoslavia",
            "Austria",
            "Denmark",
            "Cyprus",
            "Iceland"
           ],
           "name": "",
           "type": "choropleth",
           "z": [
            176,
            22,
            13,
            62,
            96,
            7,
            117,
            44,
            28,
            51,
            78,
            140,
            40,
            53,
            72,
            49,
            12,
            77,
            4,
            19
           ]
          }
         ],
         "name": "1986"
        },
        {
         "data": [
          {
           "coloraxis": "coloraxis",
           "geo": "geo",
           "hovertemplate": "Year=1987<br>Country=%{location}<br>Points=%{z}<extra></extra>",
           "locationmode": "country names",
           "locations": [
            "Belgium",
            "Finland",
            "France",
            "Germany",
            "Ireland",
            "Israel",
            "Italy",
            "Luxembourg",
            "Norway",
            "Portugal",
            "Spain",
            "Sweden",
            "Switzerland",
            "The Netherlands",
            "Turkey",
            "United Kingdom",
            "Yugoslavia",
            "Austria",
            "Greece",
            "Denmark",
            "Cyprus",
            "Iceland"
           ],
           "name": "",
           "type": "choropleth",
           "z": [
            56,
            32,
            44,
            141,
            172,
            73,
            103,
            4,
            65,
            15,
            10,
            50,
            26,
            83,
            0,
            47,
            92,
            8,
            64,
            83,
            80,
            28
           ]
          }
         ],
         "name": "1987"
        },
        {
         "data": [
          {
           "coloraxis": "coloraxis",
           "geo": "geo",
           "hovertemplate": "Year=1988<br>Country=%{location}<br>Points=%{z}<extra></extra>",
           "locationmode": "country names",
           "locations": [
            "Belgium",
            "Finland",
            "France",
            "Germany",
            "Ireland",
            "Israel",
            "Italy",
            "Luxembourg",
            "Norway",
            "Portugal",
            "Spain",
            "Sweden",
            "Switzerland",
            "The Netherlands",
            "Turkey",
            "United Kingdom",
            "Yugoslavia",
            "Austria",
            "Greece",
            "Denmark",
            "Iceland"
           ],
           "name": "",
           "type": "choropleth",
           "z": [
            5,
            3,
            64,
            48,
            79,
            85,
            52,
            90,
            88,
            5,
            58,
            52,
            137,
            70,
            37,
            136,
            87,
            0,
            10,
            92,
            20
           ]
          }
         ],
         "name": "1988"
        },
        {
         "data": [
          {
           "coloraxis": "coloraxis",
           "geo": "geo",
           "hovertemplate": "Year=1989<br>Country=%{location}<br>Points=%{z}<extra></extra>",
           "locationmode": "country names",
           "locations": [
            "Belgium",
            "Finland",
            "France",
            "Germany",
            "Ireland",
            "Israel",
            "Italy",
            "Luxembourg",
            "Norway",
            "Portugal",
            "Spain",
            "Sweden",
            "Switzerland",
            "The Netherlands",
            "Turkey",
            "United Kingdom",
            "Yugoslavia",
            "Austria",
            "Greece",
            "Denmark",
            "Cyprus",
            "Iceland"
           ],
           "name": "",
           "type": "choropleth",
           "z": [
            13,
            76,
            60,
            46,
            21,
            50,
            56,
            8,
            30,
            39,
            88,
            110,
            47,
            45,
            5,
            130,
            137,
            97,
            56,
            111,
            51,
            0
           ]
          }
         ],
         "name": "1989"
        },
        {
         "data": [
          {
           "coloraxis": "coloraxis",
           "geo": "geo",
           "hovertemplate": "Year=1990<br>Country=%{location}<br>Points=%{z}<extra></extra>",
           "locationmode": "country names",
           "locations": [
            "Belgium",
            "Finland",
            "France",
            "Germany",
            "Ireland",
            "Israel",
            "Italy",
            "Luxembourg",
            "Norway",
            "Portugal",
            "Spain",
            "Sweden",
            "Switzerland",
            "The Netherlands",
            "Turkey",
            "United Kingdom",
            "Yugoslavia",
            "Austria",
            "Greece",
            "Denmark",
            "Cyprus",
            "Iceland"
           ],
           "name": "",
           "type": "choropleth",
           "z": [
            46,
            8,
            132,
            60,
            132,
            16,
            149,
            38,
            8,
            9,
            96,
            24,
            51,
            25,
            21,
            87,
            81,
            58,
            11,
            64,
            36,
            124
           ]
          }
         ],
         "name": "1990"
        },
        {
         "data": [
          {
           "coloraxis": "coloraxis",
           "geo": "geo",
           "hovertemplate": "Year=1991<br>Country=%{location}<br>Points=%{z}<extra></extra>",
           "locationmode": "country names",
           "locations": [
            "Belgium",
            "Finland",
            "France",
            "Germany",
            "Ireland",
            "Israel",
            "Italy",
            "Luxembourg",
            "Malta",
            "Norway",
            "Portugal",
            "Spain",
            "Sweden",
            "Switzerland",
            "Turkey",
            "United Kingdom",
            "Yugoslavia",
            "Austria",
            "Greece",
            "Denmark",
            "Cyprus",
            "Iceland"
           ],
           "name": "",
           "type": "choropleth",
           "z": [
            23,
            6,
            146,
            10,
            47,
            139,
            89,
            29,
            106,
            14,
            62,
            119,
            146,
            118,
            44,
            47,
            1,
            0,
            36,
            8,
            60,
            26
           ]
          }
         ],
         "name": "1991"
        },
        {
         "data": [
          {
           "coloraxis": "coloraxis",
           "geo": "geo",
           "hovertemplate": "Year=1992<br>Country=%{location}<br>Points=%{z}<extra></extra>",
           "locationmode": "country names",
           "locations": [
            "Belgium",
            "Finland",
            "France",
            "Germany",
            "Ireland",
            "Israel",
            "Italy",
            "Luxembourg",
            "Malta",
            "Norway",
            "Portugal",
            "Spain",
            "Sweden",
            "Switzerland",
            "The Netherlands",
            "Turkey",
            "United Kingdom",
            "Yugoslavia",
            "Austria",
            "Greece",
            "Denmark",
            "Cyprus",
            "Iceland"
           ],
           "name": "",
           "type": "choropleth",
           "z": [
            11,
            4,
            73,
            27,
            155,
            85,
            111,
            10,
            123,
            23,
            26,
            37,
            9,
            32,
            67,
            17,
            139,
            44,
            63,
            94,
            47,
            57,
            80
           ]
          }
         ],
         "name": "1992"
        },
        {
         "data": [
          {
           "coloraxis": "coloraxis",
           "geo": "geo",
           "hovertemplate": "Year=1993<br>Country=%{location}<br>Points=%{z}<extra></extra>",
           "locationmode": "country names",
           "locations": [
            "Belgium",
            "Finland",
            "France",
            "Germany",
            "Ireland",
            "Israel",
            "Italy",
            "Luxembourg",
            "Malta",
            "Norway",
            "Portugal",
            "Spain",
            "Sweden",
            "Switzerland",
            "The Netherlands",
            "Turkey",
            "United Kingdom",
            "Austria",
            "Greece",
            "Denmark",
            "Cyprus",
            "Iceland",
            "Bosnia & Herzegovina",
            "Croatia",
            "Slovenia"
           ],
           "name": "",
           "type": "choropleth",
           "z": [
            3,
            20,
            121,
            18,
            187,
            4,
            45,
            11,
            69,
            120,
            60,
            58,
            89,
            148,
            92,
            10,
            164,
            32,
            64,
            9,
            17,
            42,
            27,
            31,
            9
           ]
          }
         ],
         "name": "1993"
        },
        {
         "data": [
          {
           "coloraxis": "coloraxis",
           "geo": "geo",
           "hovertemplate": "Year=1994<br>Country=%{location}<br>Points=%{z}<extra></extra>",
           "locationmode": "country names",
           "locations": [
            "Finland",
            "France",
            "Germany",
            "Ireland",
            "Malta",
            "Norway",
            "Portugal",
            "Spain",
            "Sweden",
            "Switzerland",
            "The Netherlands",
            "United Kingdom",
            "Austria",
            "Greece",
            "Cyprus",
            "Iceland",
            "Bosnia & Herzegovina",
            "Croatia",
            "Estonia",
            "Hungary",
            "Lithuania",
            "Poland",
            "Romania",
            "Russia",
            "Slovakia"
           ],
           "name": "",
           "type": "choropleth",
           "z": [
            11,
            74,
            128,
            226,
            97,
            76,
            73,
            17,
            48,
            15,
            4,
            63,
            19,
            44,
            51,
            49,
            39,
            27,
            2,
            122,
            0,
            166,
            14,
            70,
            15
           ]
          }
         ],
         "name": "1994"
        },
        {
         "data": [
          {
           "coloraxis": "coloraxis",
           "geo": "geo",
           "hovertemplate": "Year=1995<br>Country=%{location}<br>Points=%{z}<extra></extra>",
           "locationmode": "country names",
           "locations": [
            "Belgium",
            "France",
            "Germany",
            "Ireland",
            "Israel",
            "Malta",
            "Norway",
            "Portugal",
            "Spain",
            "Sweden",
            "Turkey",
            "United Kingdom",
            "Austria",
            "Greece",
            "Denmark",
            "Cyprus",
            "Iceland",
            "Bosnia & Herzegovina",
            "Croatia",
            "Slovenia",
            "Hungary",
            "Poland",
            "Russia"
           ],
           "name": "",
           "type": "choropleth",
           "z": [
            8,
            94,
            1,
            44,
            81,
            76,
            148,
            5,
            119,
            100,
            21,
            76,
            67,
            68,
            92,
            79,
            31,
            14,
            91,
            84,
            3,
            15,
            17
           ]
          }
         ],
         "name": "1995"
        },
        {
         "data": [
          {
           "coloraxis": "coloraxis",
           "geo": "geo",
           "hovertemplate": "Year=1996<br>Country=%{location}<br>Points=%{z}<extra></extra>",
           "locationmode": "country names",
           "locations": [
            "Belgium",
            "Finland",
            "France",
            "Ireland",
            "Malta",
            "Norway",
            "Portugal",
            "Spain",
            "Sweden",
            "Switzerland",
            "The Netherlands",
            "Turkey",
            "United Kingdom",
            "Austria",
            "Greece",
            "Cyprus",
            "Iceland",
            "Bosnia & Herzegovina",
            "Croatia",
            "Slovenia",
            "Estonia",
            "Poland",
            "Slovakia"
           ],
           "name": "",
           "type": "choropleth",
           "z": [
            22,
            9,
            18,
            162,
            68,
            114,
            92,
            17,
            100,
            22,
            78,
            57,
            77,
            68,
            36,
            72,
            51,
            13,
            98,
            16,
            94,
            31,
            19
           ]
          }
         ],
         "name": "1996"
        },
        {
         "data": [
          {
           "coloraxis": "coloraxis",
           "geo": "geo",
           "hovertemplate": "Year=1997<br>Country=%{location}<br>Points=%{z}<extra></extra>",
           "locationmode": "country names",
           "locations": [
            "France",
            "Germany",
            "Ireland",
            "Italy",
            "Malta",
            "Norway",
            "Portugal",
            "Spain",
            "Sweden",
            "Switzerland",
            "The Netherlands",
            "Turkey",
            "United Kingdom",
            "Austria",
            "Greece",
            "Denmark",
            "Cyprus",
            "Iceland",
            "Bosnia & Herzegovina",
            "Croatia",
            "Slovenia",
            "Estonia",
            "Hungary",
            "Poland",
            "Russia"
           ],
           "name": "",
           "type": "choropleth",
           "z": [
            95,
            22,
            157,
            114,
            66,
            0,
            0,
            96,
            36,
            5,
            5,
            121,
            227,
            12,
            39,
            25,
            98,
            18,
            22,
            24,
            60,
            82,
            39,
            54,
            33
           ]
          }
         ],
         "name": "1997"
        },
        {
         "data": [
          {
           "coloraxis": "coloraxis",
           "geo": "geo",
           "hovertemplate": "Year=1998<br>Country=%{location}<br>Points=%{z}<extra></extra>",
           "locationmode": "country names",
           "locations": [
            "Belgium",
            "Finland",
            "France",
            "Germany",
            "Ireland",
            "Israel",
            "Malta",
            "Norway",
            "Portugal",
            "Spain",
            "Sweden",
            "Switzerland",
            "The Netherlands",
            "Turkey",
            "United Kingdom",
            "Greece",
            "Cyprus",
            "Croatia",
            "Slovenia",
            "Estonia",
            "Hungary",
            "Poland",
            "Romania",
            "Slovakia",
            "F.Y.R. Macedonia"
           ],
           "name": "",
           "type": "choropleth",
           "z": [
            122,
            22,
            3,
            86,
            64,
            172,
            165,
            79,
            36,
            21,
            53,
            0,
            150,
            25,
            166,
            12,
            37,
            131,
            17,
            36,
            4,
            19,
            6,
            8,
            16
           ]
          }
         ],
         "name": "1998"
        },
        {
         "data": [
          {
           "coloraxis": "coloraxis",
           "geo": "geo",
           "hovertemplate": "Year=1999<br>Country=%{location}<br>Points=%{z}<extra></extra>",
           "locationmode": "country names",
           "locations": [
            "Belgium",
            "France",
            "Germany",
            "Ireland",
            "Israel",
            "Malta",
            "Norway",
            "Portugal",
            "Spain",
            "Sweden",
            "The Netherlands",
            "Turkey",
            "United Kingdom",
            "Austria",
            "Denmark",
            "Cyprus",
            "Iceland",
            "Bosnia & Herzegovina",
            "Croatia",
            "Slovenia",
            "Estonia",
            "Lithuania",
            "Poland"
           ],
           "name": "",
           "type": "choropleth",
           "z": [
            38,
            14,
            140,
            18,
            93,
            32,
            35,
            12,
            1,
            163,
            71,
            21,
            38,
            65,
            71,
            2,
            146,
            86,
            118,
            50,
            90,
            13,
            17
           ]
          }
         ],
         "name": "1999"
        },
        {
         "data": [
          {
           "coloraxis": "coloraxis",
           "geo": "geo",
           "hovertemplate": "Year=2000<br>Country=%{location}<br>Points=%{z}<extra></extra>",
           "locationmode": "country names",
           "locations": [
            "Belgium",
            "Finland",
            "France",
            "Germany",
            "Ireland",
            "Israel",
            "Malta",
            "Norway",
            "Spain",
            "Sweden",
            "Switzerland",
            "The Netherlands",
            "Turkey",
            "United Kingdom",
            "Austria",
            "Denmark",
            "Cyprus",
            "Iceland",
            "Croatia",
            "Estonia",
            "Romania",
            "Russia",
            "F.Y.R. Macedonia",
            "Latvia"
           ],
           "name": "",
           "type": "choropleth",
           "z": [
            2,
            18,
            5,
            96,
            92,
            7,
            73,
            57,
            18,
            88,
            14,
            40,
            59,
            28,
            34,
            195,
            8,
            45,
            70,
            98,
            25,
            155,
            29,
            136
           ]
          }
         ],
         "name": "2000"
        },
        {
         "data": [
          {
           "coloraxis": "coloraxis",
           "geo": "geo",
           "hovertemplate": "Year=2001<br>Country=%{location}<br>Points=%{z}<extra></extra>",
           "locationmode": "country names",
           "locations": [
            "France",
            "Germany",
            "Ireland",
            "Israel",
            "Malta",
            "Norway",
            "Portugal",
            "Spain",
            "Sweden",
            "The Netherlands",
            "Turkey",
            "United Kingdom",
            "Greece",
            "Denmark",
            "Iceland",
            "Bosnia & Herzegovina",
            "Croatia",
            "Slovenia",
            "Estonia",
            "Lithuania",
            "Poland",
            "Russia",
            "Latvia"
           ],
           "name": "",
           "type": "choropleth",
           "z": [
            142,
            66,
            6,
            25,
            48,
            3,
            18,
            76,
            100,
            16,
            41,
            28,
            147,
            177,
            3,
            29,
            42,
            70,
            198,
            35,
            11,
            37,
            16
           ]
          }
         ],
         "name": "2001"
        },
        {
         "data": [
          {
           "coloraxis": "coloraxis",
           "geo": "geo",
           "hovertemplate": "Year=2002<br>Country=%{location}<br>Points=%{z}<extra></extra>",
           "locationmode": "country names",
           "locations": [
            "Belgium",
            "Finland",
            "France",
            "Germany",
            "Israel",
            "Malta",
            "Spain",
            "Sweden",
            "Switzerland",
            "Turkey",
            "United Kingdom",
            "Austria",
            "Greece",
            "Denmark",
            "Cyprus",
            "Bosnia & Herzegovina",
            "Croatia",
            "Slovenia",
            "Estonia",
            "Lithuania",
            "Romania",
            "Russia",
            "F.Y.R. Macedonia",
            "Latvia"
           ],
           "name": "",
           "type": "choropleth",
           "z": [
            33,
            24,
            104,
            17,
            37,
            164,
            81,
            72,
            15,
            29,
            111,
            26,
            27,
            7,
            85,
            33,
            44,
            33,
            111,
            12,
            71,
            55,
            25,
            176
           ]
          }
         ],
         "name": "2002"
        },
        {
         "data": [
          {
           "coloraxis": "coloraxis",
           "geo": "geo",
           "hovertemplate": "Year=2003<br>Country=%{location}<br>Points=%{z}<extra></extra>",
           "locationmode": "country names",
           "locations": [
            "Belgium",
            "France",
            "Germany",
            "Ireland",
            "Israel",
            "Malta",
            "Norway",
            "Portugal",
            "Spain",
            "Sweden",
            "The Netherlands",
            "Turkey",
            "United Kingdom",
            "Austria",
            "Greece",
            "Cyprus",
            "Iceland",
            "Bosnia & Herzegovina",
            "Croatia",
            "Slovenia",
            "Estonia",
            "Lithuania",
            "Poland",
            "Romania",
            "Russia",
            "Ukraine"
           ],
           "name": "",
           "type": "choropleth",
           "z": [
            165,
            19,
            53,
            53,
            17,
            4,
            123,
            13,
            81,
            107,
            45,
            167,
            0,
            101,
            25,
            15,
            81,
            27,
            29,
            7,
            14,
            5,
            90,
            73,
            164,
            30
           ]
          }
         ],
         "name": "2003"
        },
        {
         "data": [
          {
           "coloraxis": "coloraxis",
           "geo": "geo",
           "hovertemplate": "Year=2004<br>Country=%{location}<br>Points=%{z}<extra></extra>",
           "locationmode": "country names",
           "locations": [
            "Belgium",
            "France",
            "Germany",
            "Ireland",
            "Malta",
            "Norway",
            "Spain",
            "Sweden",
            "The Netherlands",
            "Turkey",
            "United Kingdom",
            "Austria",
            "Greece",
            "Cyprus",
            "Iceland",
            "Bosnia & Herzegovina",
            "Croatia",
            "Poland",
            "Romania",
            "Russia",
            "F.Y.R. Macedonia",
            "Ukraine",
            "Albania",
            "Serbia & Montenegro"
           ],
           "name": "",
           "type": "choropleth",
           "z": [
            7,
            40,
            93,
            7,
            50,
            3,
            87,
            170,
            11,
            195,
            29,
            9,
            252,
            170,
            16,
            91,
            50,
            27,
            18,
            67,
            47,
            280,
            106,
            263
           ]
          }
         ],
         "name": "2004"
        },
        {
         "data": [
          {
           "coloraxis": "coloraxis",
           "geo": "geo",
           "hovertemplate": "Year=2005<br>Country=%{location}<br>Points=%{z}<extra></extra>",
           "locationmode": "country names",
           "locations": [
            "France",
            "Germany",
            "Israel",
            "Malta",
            "Norway",
            "Spain",
            "Sweden",
            "Switzerland",
            "Turkey",
            "United Kingdom",
            "Greece",
            "Denmark",
            "Cyprus",
            "Bosnia & Herzegovina",
            "Croatia",
            "Hungary",
            "Romania",
            "Russia",
            "F.Y.R. Macedonia",
            "Latvia",
            "Ukraine",
            "Albania",
            "Serbia & Montenegro",
            "Moldova"
           ],
           "name": "",
           "type": "choropleth",
           "z": [
            11,
            4,
            154,
            192,
            125,
            28,
            30,
            128,
            92,
            18,
            230,
            125,
            46,
            79,
            115,
            97,
            158,
            57,
            52,
            153,
            30,
            53,
            137,
            148
           ]
          }
         ],
         "name": "2005"
        },
        {
         "data": [
          {
           "coloraxis": "coloraxis",
           "geo": "geo",
           "hovertemplate": "Year=2006<br>Country=%{location}<br>Points=%{z}<extra></extra>",
           "locationmode": "country names",
           "locations": [
            "Finland",
            "France",
            "Germany",
            "Ireland",
            "Israel",
            "Malta",
            "Norway",
            "Spain",
            "Sweden",
            "Switzerland",
            "Turkey",
            "United Kingdom",
            "Greece",
            "Denmark",
            "Bosnia & Herzegovina",
            "Croatia",
            "Lithuania",
            "Romania",
            "Russia",
            "F.Y.R. Macedonia",
            "Latvia",
            "Ukraine",
            "Moldova",
            "Armenia"
           ],
           "name": "",
           "type": "choropleth",
           "z": [
            292,
            5,
            36,
            93,
            4,
            1,
            36,
            18,
            170,
            30,
            91,
            25,
            128,
            26,
            229,
            56,
            162,
            172,
            248,
            56,
            30,
            145,
            22,
            129
           ]
          }
         ],
         "name": "2006"
        },
        {
         "data": [
          {
           "coloraxis": "coloraxis",
           "geo": "geo",
           "hovertemplate": "Year=2007<br>Country=%{location}<br>Points=%{z}<extra></extra>",
           "locationmode": "country names",
           "locations": [
            "Finland",
            "France",
            "Germany",
            "Ireland",
            "Spain",
            "Sweden",
            "Turkey",
            "United Kingdom",
            "Greece",
            "Bosnia & Herzegovina",
            "Slovenia",
            "Hungary",
            "Lithuania",
            "Romania",
            "Russia",
            "F.Y.R. Macedonia",
            "Latvia",
            "Ukraine",
            "Moldova",
            "Armenia",
            "Belarus",
            "Bulgaria",
            "Georgia",
            "Serbia"
           ],
           "name": "",
           "type": "choropleth",
           "z": [
            53,
            19,
            49,
            5,
            43,
            51,
            163,
            19,
            139,
            106,
            66,
            128,
            28,
            84,
            207,
            73,
            54,
            235,
            109,
            138,
            145,
            157,
            97,
            268
           ]
          }
         ],
         "name": "2007"
        },
        {
         "data": [
          {
           "coloraxis": "coloraxis",
           "geo": "geo",
           "hovertemplate": "Year=2008<br>Country=%{location}<br>Points=%{z}<extra></extra>",
           "locationmode": "country names",
           "locations": [
            "Finland",
            "France",
            "Germany",
            "Israel",
            "Norway",
            "Portugal",
            "Spain",
            "Sweden",
            "Turkey",
            "United Kingdom",
            "Greece",
            "Denmark",
            "Iceland",
            "Bosnia & Herzegovina",
            "Croatia",
            "Poland",
            "Romania",
            "Russia",
            "Latvia",
            "Ukraine",
            "Albania",
            "Armenia",
            "Georgia",
            "Serbia",
            "Azerbaijan"
           ],
           "name": "",
           "type": "choropleth",
           "z": [
            35,
            47,
            14,
            124,
            182,
            69,
            55,
            47,
            138,
            14,
            218,
            60,
            64,
            110,
            44,
            14,
            45,
            272,
            83,
            230,
            55,
            199,
            83,
            160,
            132
           ]
          }
         ],
         "name": "2008"
        },
        {
         "data": [
          {
           "coloraxis": "coloraxis",
           "geo": "geo",
           "hovertemplate": "Year=2009<br>Country=%{location}<br>Points=%{z}<extra></extra>",
           "locationmode": "country names",
           "locations": [
            "Finland",
            "France",
            "Germany",
            "Israel",
            "Malta",
            "Norway",
            "Portugal",
            "Spain",
            "Sweden",
            "Turkey",
            "United Kingdom",
            "Greece",
            "Denmark",
            "Iceland",
            "Bosnia & Herzegovina",
            "Croatia",
            "Estonia",
            "Lithuania",
            "Romania",
            "Russia",
            "Ukraine",
            "Albania",
            "Moldova",
            "Armenia",
            "Azerbaijan"
           ],
           "name": "",
           "type": "choropleth",
           "z": [
            22,
            107,
            35,
            53,
            31,
            387,
            57,
            23,
            33,
            177,
            173,
            120,
            74,
            218,
            106,
            45,
            129,
            23,
            40,
            91,
            76,
            48,
            69,
            92,
            207
           ]
          }
         ],
         "name": "2009"
        },
        {
         "data": [
          {
           "coloraxis": "coloraxis",
           "geo": "geo",
           "hovertemplate": "Year=2010<br>Country=%{location}<br>Points=%{z}<extra></extra>",
           "locationmode": "country names",
           "locations": [
            "Belgium",
            "France",
            "Germany",
            "Ireland",
            "Israel",
            "Norway",
            "Portugal",
            "Spain",
            "Turkey",
            "United Kingdom",
            "Greece",
            "Denmark",
            "Cyprus",
            "Iceland",
            "Bosnia & Herzegovina",
            "Romania",
            "Russia",
            "Ukraine",
            "Albania",
            "Moldova",
            "Armenia",
            "Belarus",
            "Georgia",
            "Serbia",
            "Azerbaijan"
           ],
           "name": "",
           "type": "choropleth",
           "z": [
            143,
            82,
            246,
            25,
            71,
            35,
            43,
            68,
            170,
            10,
            140,
            149,
            27,
            41,
            51,
            162,
            90,
            108,
            62,
            27,
            141,
            18,
            136,
            72,
            145
           ]
          }
         ],
         "name": "2010"
        },
        {
         "data": [
          {
           "coloraxis": "coloraxis",
           "geo": "geo",
           "hovertemplate": "Year=2011<br>Country=%{location}<br>Points=%{z}<extra></extra>",
           "locationmode": "country names",
           "locations": [
            "Finland",
            "France",
            "Germany",
            "Ireland",
            "Italy",
            "Spain",
            "Sweden",
            "Switzerland",
            "United Kingdom",
            "Austria",
            "Greece",
            "Denmark",
            "Iceland",
            "Bosnia & Herzegovina",
            "Slovenia",
            "Estonia",
            "Hungary",
            "Lithuania",
            "Romania",
            "Russia",
            "Ukraine",
            "Moldova",
            "Georgia",
            "Serbia",
            "Azerbaijan"
           ],
           "name": "",
           "type": "choropleth",
           "z": [
            57,
            82,
            107,
            119,
            189,
            50,
            185,
            19,
            100,
            64,
            120,
            134,
            61,
            125,
            96,
            44,
            53,
            63,
            77,
            77,
            159,
            97,
            110,
            85,
            221
           ]
          }
         ],
         "name": "2011"
        },
        {
         "data": [
          {
           "coloraxis": "coloraxis",
           "geo": "geo",
           "hovertemplate": "Year=2012<br>Country=%{location}<br>Points=%{z}<extra></extra>",
           "locationmode": "country names",
           "locations": [
            "France",
            "Germany",
            "Ireland",
            "Italy",
            "Malta",
            "Norway",
            "Spain",
            "Sweden",
            "Turkey",
            "United Kingdom",
            "Greece",
            "Denmark",
            "Cyprus",
            "Iceland",
            "Bosnia & Herzegovina",
            "Estonia",
            "Hungary",
            "Lithuania",
            "Romania",
            "Russia",
            "F.Y.R. Macedonia",
            "Ukraine",
            "Albania",
            "Moldova",
            "Serbia",
            "Azerbaijan"
           ],
           "name": "",
           "type": "choropleth",
           "z": [
            21,
            110,
            46,
            101,
            41,
            7,
            97,
            372,
            112,
            12,
            64,
            21,
            65,
            46,
            55,
            120,
            19,
            70,
            71,
            259,
            71,
            65,
            146,
            81,
            214,
            150
           ]
          }
         ],
         "name": "2012"
        },
        {
         "data": [
          {
           "coloraxis": "coloraxis",
           "geo": "geo",
           "hovertemplate": "Year=2013<br>Country=%{location}<br>Points=%{z}<extra></extra>",
           "locationmode": "country names",
           "locations": [
            "Belgium",
            "Finland",
            "France",
            "Germany",
            "Ireland",
            "Italy",
            "Malta",
            "Norway",
            "Spain",
            "Sweden",
            "The Netherlands",
            "United Kingdom",
            "Greece",
            "Denmark",
            "Iceland",
            "Estonia",
            "Hungary",
            "Lithuania",
            "Romania",
            "Russia",
            "Ukraine",
            "Moldova",
            "Armenia",
            "Belarus",
            "Georgia",
            "Azerbaijan"
           ],
           "name": "",
           "type": "choropleth",
           "z": [
            71,
            13,
            14,
            18,
            5,
            126,
            120,
            191,
            8,
            62,
            114,
            23,
            152,
            281,
            47,
            19,
            84,
            17,
            65,
            174,
            214,
            71,
            41,
            48,
            50,
            234
           ]
          }
         ],
         "name": "2013"
        },
        {
         "data": [
          {
           "coloraxis": "coloraxis",
           "geo": "geo",
           "hovertemplate": "Year=2014<br>Country=%{location}<br>Points=%{z}<extra></extra>",
           "locationmode": "country names",
           "locations": [
            "Finland",
            "France",
            "Germany",
            "Italy",
            "Malta",
            "Norway",
            "Spain",
            "Sweden",
            "Switzerland",
            "The Netherlands",
            "United Kingdom",
            "Austria",
            "Greece",
            "Denmark",
            "Iceland",
            "Slovenia",
            "Hungary",
            "Poland",
            "Romania",
            "Russia",
            "Ukraine",
            "Armenia",
            "Belarus",
            "Azerbaijan",
            "Montenegro",
            "San Marino"
           ],
           "name": "",
           "type": "choropleth",
           "z": [
            72,
            2,
            39,
            33,
            32,
            88,
            74,
            218,
            64,
            238,
            40,
            290,
            35,
            74,
            58,
            9,
            143,
            62,
            72,
            89,
            113,
            174,
            43,
            33,
            37,
            14
           ]
          }
         ],
         "name": "2014"
        },
        {
         "data": [
          {
           "coloraxis": "coloraxis",
           "geo": "geo",
           "hovertemplate": "Year=2015<br>Country=%{location}<br>Points=%{z}<extra></extra>",
           "locationmode": "country names",
           "locations": [
            "Belgium",
            "France",
            "Germany",
            "Israel",
            "Italy",
            "Norway",
            "Spain",
            "Sweden",
            "United Kingdom",
            "Austria",
            "Greece",
            "Cyprus",
            "Slovenia",
            "Estonia",
            "Hungary",
            "Lithuania",
            "Poland",
            "Romania",
            "Russia",
            "Latvia",
            "Albania",
            "Armenia",
            "Georgia",
            "Serbia",
            "Azerbaijan",
            "Montenegro",
            "Australia"
           ],
           "name": "",
           "type": "choropleth",
           "z": [
            217,
            4,
            0,
            97,
            292,
            102,
            15,
            365,
            5,
            0,
            23,
            11,
            39,
            106,
            19,
            30,
            10,
            35,
            303,
            186,
            34,
            34,
            51,
            53,
            49,
            44,
            196
           ]
          }
         ],
         "name": "2015"
        },
        {
         "data": [
          {
           "coloraxis": "coloraxis",
           "geo": "geo",
           "hovertemplate": "Year=2016<br>Country=%{location}<br>Points=%{z}<extra></extra>",
           "locationmode": "country names",
           "locations": [
            "Belgium",
            "France",
            "Germany",
            "Israel",
            "Italy",
            "Malta",
            "Spain",
            "Sweden",
            "The Netherlands",
            "United Kingdom",
            "Austria",
            "Cyprus",
            "Croatia",
            "Hungary",
            "Lithuania",
            "Poland",
            "Russia",
            "Latvia",
            "Ukraine",
            "Armenia",
            "Bulgaria",
            "Georgia",
            "Serbia",
            "Azerbaijan",
            "Australia",
            "Czech Republic"
           ],
           "name": "",
           "type": "choropleth",
           "z": [
            181,
            257,
            11,
            135,
            124,
            153,
            77,
            261,
            153,
            62,
            151,
            96,
            73,
            108,
            200,
            229,
            491,
            132,
            534,
            249,
            307,
            104,
            115,
            117,
            511,
            41
           ]
          }
         ],
         "name": "2016"
        },
        {
         "data": [
          {
           "coloraxis": "coloraxis",
           "geo": "geo",
           "hovertemplate": "Year=2017<br>Country=%{location}<br>Points=%{z}<extra></extra>",
           "locationmode": "country names",
           "locations": [
            "Belgium",
            "France",
            "Germany",
            "Israel",
            "Italy",
            "Norway",
            "Portugal",
            "Spain",
            "Sweden",
            "The Netherlands",
            "United Kingdom",
            "Austria",
            "Greece",
            "Denmark",
            "Cyprus",
            "Croatia",
            "Hungary",
            "Poland",
            "Romania",
            "Ukraine",
            "Moldova",
            "Armenia",
            "Belarus",
            "Bulgaria",
            "Azerbaijan",
            "Australia"
           ],
           "name": "",
           "type": "choropleth",
           "z": [
            363,
            135,
            6,
            39,
            334,
            158,
            758,
            5,
            344,
            150,
            111,
            93,
            77,
            77,
            68,
            128,
            200,
            64,
            282,
            36,
            374,
            79,
            83,
            615,
            120,
            173
           ]
          }
         ],
         "name": "2017"
        },
        {
         "data": [
          {
           "coloraxis": "coloraxis",
           "geo": "geo",
           "hovertemplate": "Year=2018<br>Country=%{location}<br>Points=%{z}<extra></extra>",
           "locationmode": "country names",
           "locations": [
            "Finland",
            "France",
            "Germany",
            "Ireland",
            "Israel",
            "Italy",
            "Norway",
            "Portugal",
            "Spain",
            "Sweden",
            "The Netherlands",
            "United Kingdom",
            "Austria",
            "Denmark",
            "Cyprus",
            "Slovenia",
            "Estonia",
            "Hungary",
            "Lithuania",
            "Ukraine",
            "Albania",
            "Moldova",
            "Bulgaria",
            "Serbia",
            "Australia",
            "Czech Republic"
           ],
           "name": "",
           "type": "choropleth",
           "z": [
            46,
            173,
            340,
            136,
            529,
            308,
            144,
            39,
            61,
            274,
            121,
            48,
            342,
            226,
            436,
            64,
            245,
            93,
            181,
            130,
            184,
            209,
            166,
            113,
            99,
            281
           ]
          }
         ],
         "name": "2018"
        },
        {
         "data": [
          {
           "coloraxis": "coloraxis",
           "geo": "geo",
           "hovertemplate": "Year=2019<br>Country=%{location}<br>Points=%{z}<extra></extra>",
           "locationmode": "country names",
           "locations": [
            "France",
            "Germany",
            "Israel",
            "Italy",
            "Malta",
            "Norway",
            "Spain",
            "Sweden",
            "Switzerland",
            "The Netherlands",
            "United Kingdom",
            "Greece",
            "Denmark",
            "Cyprus",
            "Iceland",
            "Slovenia",
            "Estonia",
            "Russia",
            "Albania",
            "Belarus",
            "Serbia",
            "Azerbaijan",
            "San Marino",
            "Australia",
            "Czech Republic",
            "North Macedonia"
           ],
           "name": "",
           "type": "choropleth",
           "z": [
            100,
            32,
            46,
            461,
            91,
            334,
            58,
            330,
            356,
            492,
            14,
            71,
            114,
            97,
            231,
            103,
            81,
            353,
            88,
            38,
            91,
            291,
            78,
            282,
            152,
            292
           ]
          }
         ],
         "name": "2019"
        }
       ],
       "layout": {
        "coloraxis": {
         "colorbar": {
          "title": {
           "text": "Points"
          }
         },
         "colorscale": [
          [
           0,
           "#0d0887"
          ],
          [
           0.1111111111111111,
           "#46039f"
          ],
          [
           0.2222222222222222,
           "#7201a8"
          ],
          [
           0.3333333333333333,
           "#9c179e"
          ],
          [
           0.4444444444444444,
           "#bd3786"
          ],
          [
           0.5555555555555556,
           "#d8576b"
          ],
          [
           0.6666666666666666,
           "#ed7953"
          ],
          [
           0.7777777777777778,
           "#fb9f3a"
          ],
          [
           0.8888888888888888,
           "#fdca26"
          ],
          [
           1,
           "#f0f921"
          ]
         ]
        },
        "geo": {
         "center": {},
         "domain": {
          "x": [
           0,
           1
          ],
          "y": [
           0,
           1
          ]
         }
        },
        "height": 1000,
        "legend": {
         "tracegroupgap": 0
        },
        "sliders": [
         {
          "active": 0,
          "currentvalue": {
           "prefix": "Year="
          },
          "len": 0.9,
          "pad": {
           "b": 10,
           "t": 60
          },
          "steps": [
           {
            "args": [
             [
              "1975"
             ],
             {
              "frame": {
               "duration": 0,
               "redraw": true
              },
              "fromcurrent": true,
              "mode": "immediate",
              "transition": {
               "duration": 0,
               "easing": "linear"
              }
             }
            ],
            "label": "1975",
            "method": "animate"
           },
           {
            "args": [
             [
              "1976"
             ],
             {
              "frame": {
               "duration": 0,
               "redraw": true
              },
              "fromcurrent": true,
              "mode": "immediate",
              "transition": {
               "duration": 0,
               "easing": "linear"
              }
             }
            ],
            "label": "1976",
            "method": "animate"
           },
           {
            "args": [
             [
              "1977"
             ],
             {
              "frame": {
               "duration": 0,
               "redraw": true
              },
              "fromcurrent": true,
              "mode": "immediate",
              "transition": {
               "duration": 0,
               "easing": "linear"
              }
             }
            ],
            "label": "1977",
            "method": "animate"
           },
           {
            "args": [
             [
              "1978"
             ],
             {
              "frame": {
               "duration": 0,
               "redraw": true
              },
              "fromcurrent": true,
              "mode": "immediate",
              "transition": {
               "duration": 0,
               "easing": "linear"
              }
             }
            ],
            "label": "1978",
            "method": "animate"
           },
           {
            "args": [
             [
              "1979"
             ],
             {
              "frame": {
               "duration": 0,
               "redraw": true
              },
              "fromcurrent": true,
              "mode": "immediate",
              "transition": {
               "duration": 0,
               "easing": "linear"
              }
             }
            ],
            "label": "1979",
            "method": "animate"
           },
           {
            "args": [
             [
              "1980"
             ],
             {
              "frame": {
               "duration": 0,
               "redraw": true
              },
              "fromcurrent": true,
              "mode": "immediate",
              "transition": {
               "duration": 0,
               "easing": "linear"
              }
             }
            ],
            "label": "1980",
            "method": "animate"
           },
           {
            "args": [
             [
              "1981"
             ],
             {
              "frame": {
               "duration": 0,
               "redraw": true
              },
              "fromcurrent": true,
              "mode": "immediate",
              "transition": {
               "duration": 0,
               "easing": "linear"
              }
             }
            ],
            "label": "1981",
            "method": "animate"
           },
           {
            "args": [
             [
              "1982"
             ],
             {
              "frame": {
               "duration": 0,
               "redraw": true
              },
              "fromcurrent": true,
              "mode": "immediate",
              "transition": {
               "duration": 0,
               "easing": "linear"
              }
             }
            ],
            "label": "1982",
            "method": "animate"
           },
           {
            "args": [
             [
              "1983"
             ],
             {
              "frame": {
               "duration": 0,
               "redraw": true
              },
              "fromcurrent": true,
              "mode": "immediate",
              "transition": {
               "duration": 0,
               "easing": "linear"
              }
             }
            ],
            "label": "1983",
            "method": "animate"
           },
           {
            "args": [
             [
              "1984"
             ],
             {
              "frame": {
               "duration": 0,
               "redraw": true
              },
              "fromcurrent": true,
              "mode": "immediate",
              "transition": {
               "duration": 0,
               "easing": "linear"
              }
             }
            ],
            "label": "1984",
            "method": "animate"
           },
           {
            "args": [
             [
              "1985"
             ],
             {
              "frame": {
               "duration": 0,
               "redraw": true
              },
              "fromcurrent": true,
              "mode": "immediate",
              "transition": {
               "duration": 0,
               "easing": "linear"
              }
             }
            ],
            "label": "1985",
            "method": "animate"
           },
           {
            "args": [
             [
              "1986"
             ],
             {
              "frame": {
               "duration": 0,
               "redraw": true
              },
              "fromcurrent": true,
              "mode": "immediate",
              "transition": {
               "duration": 0,
               "easing": "linear"
              }
             }
            ],
            "label": "1986",
            "method": "animate"
           },
           {
            "args": [
             [
              "1987"
             ],
             {
              "frame": {
               "duration": 0,
               "redraw": true
              },
              "fromcurrent": true,
              "mode": "immediate",
              "transition": {
               "duration": 0,
               "easing": "linear"
              }
             }
            ],
            "label": "1987",
            "method": "animate"
           },
           {
            "args": [
             [
              "1988"
             ],
             {
              "frame": {
               "duration": 0,
               "redraw": true
              },
              "fromcurrent": true,
              "mode": "immediate",
              "transition": {
               "duration": 0,
               "easing": "linear"
              }
             }
            ],
            "label": "1988",
            "method": "animate"
           },
           {
            "args": [
             [
              "1989"
             ],
             {
              "frame": {
               "duration": 0,
               "redraw": true
              },
              "fromcurrent": true,
              "mode": "immediate",
              "transition": {
               "duration": 0,
               "easing": "linear"
              }
             }
            ],
            "label": "1989",
            "method": "animate"
           },
           {
            "args": [
             [
              "1990"
             ],
             {
              "frame": {
               "duration": 0,
               "redraw": true
              },
              "fromcurrent": true,
              "mode": "immediate",
              "transition": {
               "duration": 0,
               "easing": "linear"
              }
             }
            ],
            "label": "1990",
            "method": "animate"
           },
           {
            "args": [
             [
              "1991"
             ],
             {
              "frame": {
               "duration": 0,
               "redraw": true
              },
              "fromcurrent": true,
              "mode": "immediate",
              "transition": {
               "duration": 0,
               "easing": "linear"
              }
             }
            ],
            "label": "1991",
            "method": "animate"
           },
           {
            "args": [
             [
              "1992"
             ],
             {
              "frame": {
               "duration": 0,
               "redraw": true
              },
              "fromcurrent": true,
              "mode": "immediate",
              "transition": {
               "duration": 0,
               "easing": "linear"
              }
             }
            ],
            "label": "1992",
            "method": "animate"
           },
           {
            "args": [
             [
              "1993"
             ],
             {
              "frame": {
               "duration": 0,
               "redraw": true
              },
              "fromcurrent": true,
              "mode": "immediate",
              "transition": {
               "duration": 0,
               "easing": "linear"
              }
             }
            ],
            "label": "1993",
            "method": "animate"
           },
           {
            "args": [
             [
              "1994"
             ],
             {
              "frame": {
               "duration": 0,
               "redraw": true
              },
              "fromcurrent": true,
              "mode": "immediate",
              "transition": {
               "duration": 0,
               "easing": "linear"
              }
             }
            ],
            "label": "1994",
            "method": "animate"
           },
           {
            "args": [
             [
              "1995"
             ],
             {
              "frame": {
               "duration": 0,
               "redraw": true
              },
              "fromcurrent": true,
              "mode": "immediate",
              "transition": {
               "duration": 0,
               "easing": "linear"
              }
             }
            ],
            "label": "1995",
            "method": "animate"
           },
           {
            "args": [
             [
              "1996"
             ],
             {
              "frame": {
               "duration": 0,
               "redraw": true
              },
              "fromcurrent": true,
              "mode": "immediate",
              "transition": {
               "duration": 0,
               "easing": "linear"
              }
             }
            ],
            "label": "1996",
            "method": "animate"
           },
           {
            "args": [
             [
              "1997"
             ],
             {
              "frame": {
               "duration": 0,
               "redraw": true
              },
              "fromcurrent": true,
              "mode": "immediate",
              "transition": {
               "duration": 0,
               "easing": "linear"
              }
             }
            ],
            "label": "1997",
            "method": "animate"
           },
           {
            "args": [
             [
              "1998"
             ],
             {
              "frame": {
               "duration": 0,
               "redraw": true
              },
              "fromcurrent": true,
              "mode": "immediate",
              "transition": {
               "duration": 0,
               "easing": "linear"
              }
             }
            ],
            "label": "1998",
            "method": "animate"
           },
           {
            "args": [
             [
              "1999"
             ],
             {
              "frame": {
               "duration": 0,
               "redraw": true
              },
              "fromcurrent": true,
              "mode": "immediate",
              "transition": {
               "duration": 0,
               "easing": "linear"
              }
             }
            ],
            "label": "1999",
            "method": "animate"
           },
           {
            "args": [
             [
              "2000"
             ],
             {
              "frame": {
               "duration": 0,
               "redraw": true
              },
              "fromcurrent": true,
              "mode": "immediate",
              "transition": {
               "duration": 0,
               "easing": "linear"
              }
             }
            ],
            "label": "2000",
            "method": "animate"
           },
           {
            "args": [
             [
              "2001"
             ],
             {
              "frame": {
               "duration": 0,
               "redraw": true
              },
              "fromcurrent": true,
              "mode": "immediate",
              "transition": {
               "duration": 0,
               "easing": "linear"
              }
             }
            ],
            "label": "2001",
            "method": "animate"
           },
           {
            "args": [
             [
              "2002"
             ],
             {
              "frame": {
               "duration": 0,
               "redraw": true
              },
              "fromcurrent": true,
              "mode": "immediate",
              "transition": {
               "duration": 0,
               "easing": "linear"
              }
             }
            ],
            "label": "2002",
            "method": "animate"
           },
           {
            "args": [
             [
              "2003"
             ],
             {
              "frame": {
               "duration": 0,
               "redraw": true
              },
              "fromcurrent": true,
              "mode": "immediate",
              "transition": {
               "duration": 0,
               "easing": "linear"
              }
             }
            ],
            "label": "2003",
            "method": "animate"
           },
           {
            "args": [
             [
              "2004"
             ],
             {
              "frame": {
               "duration": 0,
               "redraw": true
              },
              "fromcurrent": true,
              "mode": "immediate",
              "transition": {
               "duration": 0,
               "easing": "linear"
              }
             }
            ],
            "label": "2004",
            "method": "animate"
           },
           {
            "args": [
             [
              "2005"
             ],
             {
              "frame": {
               "duration": 0,
               "redraw": true
              },
              "fromcurrent": true,
              "mode": "immediate",
              "transition": {
               "duration": 0,
               "easing": "linear"
              }
             }
            ],
            "label": "2005",
            "method": "animate"
           },
           {
            "args": [
             [
              "2006"
             ],
             {
              "frame": {
               "duration": 0,
               "redraw": true
              },
              "fromcurrent": true,
              "mode": "immediate",
              "transition": {
               "duration": 0,
               "easing": "linear"
              }
             }
            ],
            "label": "2006",
            "method": "animate"
           },
           {
            "args": [
             [
              "2007"
             ],
             {
              "frame": {
               "duration": 0,
               "redraw": true
              },
              "fromcurrent": true,
              "mode": "immediate",
              "transition": {
               "duration": 0,
               "easing": "linear"
              }
             }
            ],
            "label": "2007",
            "method": "animate"
           },
           {
            "args": [
             [
              "2008"
             ],
             {
              "frame": {
               "duration": 0,
               "redraw": true
              },
              "fromcurrent": true,
              "mode": "immediate",
              "transition": {
               "duration": 0,
               "easing": "linear"
              }
             }
            ],
            "label": "2008",
            "method": "animate"
           },
           {
            "args": [
             [
              "2009"
             ],
             {
              "frame": {
               "duration": 0,
               "redraw": true
              },
              "fromcurrent": true,
              "mode": "immediate",
              "transition": {
               "duration": 0,
               "easing": "linear"
              }
             }
            ],
            "label": "2009",
            "method": "animate"
           },
           {
            "args": [
             [
              "2010"
             ],
             {
              "frame": {
               "duration": 0,
               "redraw": true
              },
              "fromcurrent": true,
              "mode": "immediate",
              "transition": {
               "duration": 0,
               "easing": "linear"
              }
             }
            ],
            "label": "2010",
            "method": "animate"
           },
           {
            "args": [
             [
              "2011"
             ],
             {
              "frame": {
               "duration": 0,
               "redraw": true
              },
              "fromcurrent": true,
              "mode": "immediate",
              "transition": {
               "duration": 0,
               "easing": "linear"
              }
             }
            ],
            "label": "2011",
            "method": "animate"
           },
           {
            "args": [
             [
              "2012"
             ],
             {
              "frame": {
               "duration": 0,
               "redraw": true
              },
              "fromcurrent": true,
              "mode": "immediate",
              "transition": {
               "duration": 0,
               "easing": "linear"
              }
             }
            ],
            "label": "2012",
            "method": "animate"
           },
           {
            "args": [
             [
              "2013"
             ],
             {
              "frame": {
               "duration": 0,
               "redraw": true
              },
              "fromcurrent": true,
              "mode": "immediate",
              "transition": {
               "duration": 0,
               "easing": "linear"
              }
             }
            ],
            "label": "2013",
            "method": "animate"
           },
           {
            "args": [
             [
              "2014"
             ],
             {
              "frame": {
               "duration": 0,
               "redraw": true
              },
              "fromcurrent": true,
              "mode": "immediate",
              "transition": {
               "duration": 0,
               "easing": "linear"
              }
             }
            ],
            "label": "2014",
            "method": "animate"
           },
           {
            "args": [
             [
              "2015"
             ],
             {
              "frame": {
               "duration": 0,
               "redraw": true
              },
              "fromcurrent": true,
              "mode": "immediate",
              "transition": {
               "duration": 0,
               "easing": "linear"
              }
             }
            ],
            "label": "2015",
            "method": "animate"
           },
           {
            "args": [
             [
              "2016"
             ],
             {
              "frame": {
               "duration": 0,
               "redraw": true
              },
              "fromcurrent": true,
              "mode": "immediate",
              "transition": {
               "duration": 0,
               "easing": "linear"
              }
             }
            ],
            "label": "2016",
            "method": "animate"
           },
           {
            "args": [
             [
              "2017"
             ],
             {
              "frame": {
               "duration": 0,
               "redraw": true
              },
              "fromcurrent": true,
              "mode": "immediate",
              "transition": {
               "duration": 0,
               "easing": "linear"
              }
             }
            ],
            "label": "2017",
            "method": "animate"
           },
           {
            "args": [
             [
              "2018"
             ],
             {
              "frame": {
               "duration": 0,
               "redraw": true
              },
              "fromcurrent": true,
              "mode": "immediate",
              "transition": {
               "duration": 0,
               "easing": "linear"
              }
             }
            ],
            "label": "2018",
            "method": "animate"
           },
           {
            "args": [
             [
              "2019"
             ],
             {
              "frame": {
               "duration": 0,
               "redraw": true
              },
              "fromcurrent": true,
              "mode": "immediate",
              "transition": {
               "duration": 0,
               "easing": "linear"
              }
             }
            ],
            "label": "2019",
            "method": "animate"
           }
          ],
          "x": 0.1,
          "xanchor": "left",
          "y": 0,
          "yanchor": "top"
         }
        ],
        "template": {
         "data": {
          "bar": [
           {
            "error_x": {
             "color": "#2a3f5f"
            },
            "error_y": {
             "color": "#2a3f5f"
            },
            "marker": {
             "line": {
              "color": "#E5ECF6",
              "width": 0.5
             },
             "pattern": {
              "fillmode": "overlay",
              "size": 10,
              "solidity": 0.2
             }
            },
            "type": "bar"
           }
          ],
          "barpolar": [
           {
            "marker": {
             "line": {
              "color": "#E5ECF6",
              "width": 0.5
             },
             "pattern": {
              "fillmode": "overlay",
              "size": 10,
              "solidity": 0.2
             }
            },
            "type": "barpolar"
           }
          ],
          "carpet": [
           {
            "aaxis": {
             "endlinecolor": "#2a3f5f",
             "gridcolor": "white",
             "linecolor": "white",
             "minorgridcolor": "white",
             "startlinecolor": "#2a3f5f"
            },
            "baxis": {
             "endlinecolor": "#2a3f5f",
             "gridcolor": "white",
             "linecolor": "white",
             "minorgridcolor": "white",
             "startlinecolor": "#2a3f5f"
            },
            "type": "carpet"
           }
          ],
          "choropleth": [
           {
            "colorbar": {
             "outlinewidth": 0,
             "ticks": ""
            },
            "type": "choropleth"
           }
          ],
          "contour": [
           {
            "colorbar": {
             "outlinewidth": 0,
             "ticks": ""
            },
            "colorscale": [
             [
              0,
              "#0d0887"
             ],
             [
              0.1111111111111111,
              "#46039f"
             ],
             [
              0.2222222222222222,
              "#7201a8"
             ],
             [
              0.3333333333333333,
              "#9c179e"
             ],
             [
              0.4444444444444444,
              "#bd3786"
             ],
             [
              0.5555555555555556,
              "#d8576b"
             ],
             [
              0.6666666666666666,
              "#ed7953"
             ],
             [
              0.7777777777777778,
              "#fb9f3a"
             ],
             [
              0.8888888888888888,
              "#fdca26"
             ],
             [
              1,
              "#f0f921"
             ]
            ],
            "type": "contour"
           }
          ],
          "contourcarpet": [
           {
            "colorbar": {
             "outlinewidth": 0,
             "ticks": ""
            },
            "type": "contourcarpet"
           }
          ],
          "heatmap": [
           {
            "colorbar": {
             "outlinewidth": 0,
             "ticks": ""
            },
            "colorscale": [
             [
              0,
              "#0d0887"
             ],
             [
              0.1111111111111111,
              "#46039f"
             ],
             [
              0.2222222222222222,
              "#7201a8"
             ],
             [
              0.3333333333333333,
              "#9c179e"
             ],
             [
              0.4444444444444444,
              "#bd3786"
             ],
             [
              0.5555555555555556,
              "#d8576b"
             ],
             [
              0.6666666666666666,
              "#ed7953"
             ],
             [
              0.7777777777777778,
              "#fb9f3a"
             ],
             [
              0.8888888888888888,
              "#fdca26"
             ],
             [
              1,
              "#f0f921"
             ]
            ],
            "type": "heatmap"
           }
          ],
          "heatmapgl": [
           {
            "colorbar": {
             "outlinewidth": 0,
             "ticks": ""
            },
            "colorscale": [
             [
              0,
              "#0d0887"
             ],
             [
              0.1111111111111111,
              "#46039f"
             ],
             [
              0.2222222222222222,
              "#7201a8"
             ],
             [
              0.3333333333333333,
              "#9c179e"
             ],
             [
              0.4444444444444444,
              "#bd3786"
             ],
             [
              0.5555555555555556,
              "#d8576b"
             ],
             [
              0.6666666666666666,
              "#ed7953"
             ],
             [
              0.7777777777777778,
              "#fb9f3a"
             ],
             [
              0.8888888888888888,
              "#fdca26"
             ],
             [
              1,
              "#f0f921"
             ]
            ],
            "type": "heatmapgl"
           }
          ],
          "histogram": [
           {
            "marker": {
             "pattern": {
              "fillmode": "overlay",
              "size": 10,
              "solidity": 0.2
             }
            },
            "type": "histogram"
           }
          ],
          "histogram2d": [
           {
            "colorbar": {
             "outlinewidth": 0,
             "ticks": ""
            },
            "colorscale": [
             [
              0,
              "#0d0887"
             ],
             [
              0.1111111111111111,
              "#46039f"
             ],
             [
              0.2222222222222222,
              "#7201a8"
             ],
             [
              0.3333333333333333,
              "#9c179e"
             ],
             [
              0.4444444444444444,
              "#bd3786"
             ],
             [
              0.5555555555555556,
              "#d8576b"
             ],
             [
              0.6666666666666666,
              "#ed7953"
             ],
             [
              0.7777777777777778,
              "#fb9f3a"
             ],
             [
              0.8888888888888888,
              "#fdca26"
             ],
             [
              1,
              "#f0f921"
             ]
            ],
            "type": "histogram2d"
           }
          ],
          "histogram2dcontour": [
           {
            "colorbar": {
             "outlinewidth": 0,
             "ticks": ""
            },
            "colorscale": [
             [
              0,
              "#0d0887"
             ],
             [
              0.1111111111111111,
              "#46039f"
             ],
             [
              0.2222222222222222,
              "#7201a8"
             ],
             [
              0.3333333333333333,
              "#9c179e"
             ],
             [
              0.4444444444444444,
              "#bd3786"
             ],
             [
              0.5555555555555556,
              "#d8576b"
             ],
             [
              0.6666666666666666,
              "#ed7953"
             ],
             [
              0.7777777777777778,
              "#fb9f3a"
             ],
             [
              0.8888888888888888,
              "#fdca26"
             ],
             [
              1,
              "#f0f921"
             ]
            ],
            "type": "histogram2dcontour"
           }
          ],
          "mesh3d": [
           {
            "colorbar": {
             "outlinewidth": 0,
             "ticks": ""
            },
            "type": "mesh3d"
           }
          ],
          "parcoords": [
           {
            "line": {
             "colorbar": {
              "outlinewidth": 0,
              "ticks": ""
             }
            },
            "type": "parcoords"
           }
          ],
          "pie": [
           {
            "automargin": true,
            "type": "pie"
           }
          ],
          "scatter": [
           {
            "fillpattern": {
             "fillmode": "overlay",
             "size": 10,
             "solidity": 0.2
            },
            "type": "scatter"
           }
          ],
          "scatter3d": [
           {
            "line": {
             "colorbar": {
              "outlinewidth": 0,
              "ticks": ""
             }
            },
            "marker": {
             "colorbar": {
              "outlinewidth": 0,
              "ticks": ""
             }
            },
            "type": "scatter3d"
           }
          ],
          "scattercarpet": [
           {
            "marker": {
             "colorbar": {
              "outlinewidth": 0,
              "ticks": ""
             }
            },
            "type": "scattercarpet"
           }
          ],
          "scattergeo": [
           {
            "marker": {
             "colorbar": {
              "outlinewidth": 0,
              "ticks": ""
             }
            },
            "type": "scattergeo"
           }
          ],
          "scattergl": [
           {
            "marker": {
             "colorbar": {
              "outlinewidth": 0,
              "ticks": ""
             }
            },
            "type": "scattergl"
           }
          ],
          "scattermapbox": [
           {
            "marker": {
             "colorbar": {
              "outlinewidth": 0,
              "ticks": ""
             }
            },
            "type": "scattermapbox"
           }
          ],
          "scatterpolar": [
           {
            "marker": {
             "colorbar": {
              "outlinewidth": 0,
              "ticks": ""
             }
            },
            "type": "scatterpolar"
           }
          ],
          "scatterpolargl": [
           {
            "marker": {
             "colorbar": {
              "outlinewidth": 0,
              "ticks": ""
             }
            },
            "type": "scatterpolargl"
           }
          ],
          "scatterternary": [
           {
            "marker": {
             "colorbar": {
              "outlinewidth": 0,
              "ticks": ""
             }
            },
            "type": "scatterternary"
           }
          ],
          "surface": [
           {
            "colorbar": {
             "outlinewidth": 0,
             "ticks": ""
            },
            "colorscale": [
             [
              0,
              "#0d0887"
             ],
             [
              0.1111111111111111,
              "#46039f"
             ],
             [
              0.2222222222222222,
              "#7201a8"
             ],
             [
              0.3333333333333333,
              "#9c179e"
             ],
             [
              0.4444444444444444,
              "#bd3786"
             ],
             [
              0.5555555555555556,
              "#d8576b"
             ],
             [
              0.6666666666666666,
              "#ed7953"
             ],
             [
              0.7777777777777778,
              "#fb9f3a"
             ],
             [
              0.8888888888888888,
              "#fdca26"
             ],
             [
              1,
              "#f0f921"
             ]
            ],
            "type": "surface"
           }
          ],
          "table": [
           {
            "cells": {
             "fill": {
              "color": "#EBF0F8"
             },
             "line": {
              "color": "white"
             }
            },
            "header": {
             "fill": {
              "color": "#C8D4E3"
             },
             "line": {
              "color": "white"
             }
            },
            "type": "table"
           }
          ]
         },
         "layout": {
          "annotationdefaults": {
           "arrowcolor": "#2a3f5f",
           "arrowhead": 0,
           "arrowwidth": 1
          },
          "autotypenumbers": "strict",
          "coloraxis": {
           "colorbar": {
            "outlinewidth": 0,
            "ticks": ""
           }
          },
          "colorscale": {
           "diverging": [
            [
             0,
             "#8e0152"
            ],
            [
             0.1,
             "#c51b7d"
            ],
            [
             0.2,
             "#de77ae"
            ],
            [
             0.3,
             "#f1b6da"
            ],
            [
             0.4,
             "#fde0ef"
            ],
            [
             0.5,
             "#f7f7f7"
            ],
            [
             0.6,
             "#e6f5d0"
            ],
            [
             0.7,
             "#b8e186"
            ],
            [
             0.8,
             "#7fbc41"
            ],
            [
             0.9,
             "#4d9221"
            ],
            [
             1,
             "#276419"
            ]
           ],
           "sequential": [
            [
             0,
             "#0d0887"
            ],
            [
             0.1111111111111111,
             "#46039f"
            ],
            [
             0.2222222222222222,
             "#7201a8"
            ],
            [
             0.3333333333333333,
             "#9c179e"
            ],
            [
             0.4444444444444444,
             "#bd3786"
            ],
            [
             0.5555555555555556,
             "#d8576b"
            ],
            [
             0.6666666666666666,
             "#ed7953"
            ],
            [
             0.7777777777777778,
             "#fb9f3a"
            ],
            [
             0.8888888888888888,
             "#fdca26"
            ],
            [
             1,
             "#f0f921"
            ]
           ],
           "sequentialminus": [
            [
             0,
             "#0d0887"
            ],
            [
             0.1111111111111111,
             "#46039f"
            ],
            [
             0.2222222222222222,
             "#7201a8"
            ],
            [
             0.3333333333333333,
             "#9c179e"
            ],
            [
             0.4444444444444444,
             "#bd3786"
            ],
            [
             0.5555555555555556,
             "#d8576b"
            ],
            [
             0.6666666666666666,
             "#ed7953"
            ],
            [
             0.7777777777777778,
             "#fb9f3a"
            ],
            [
             0.8888888888888888,
             "#fdca26"
            ],
            [
             1,
             "#f0f921"
            ]
           ]
          },
          "colorway": [
           "#636efa",
           "#EF553B",
           "#00cc96",
           "#ab63fa",
           "#FFA15A",
           "#19d3f3",
           "#FF6692",
           "#B6E880",
           "#FF97FF",
           "#FECB52"
          ],
          "font": {
           "color": "#2a3f5f"
          },
          "geo": {
           "bgcolor": "white",
           "lakecolor": "white",
           "landcolor": "#E5ECF6",
           "showlakes": true,
           "showland": true,
           "subunitcolor": "white"
          },
          "hoverlabel": {
           "align": "left"
          },
          "hovermode": "closest",
          "mapbox": {
           "style": "light"
          },
          "paper_bgcolor": "white",
          "plot_bgcolor": "#E5ECF6",
          "polar": {
           "angularaxis": {
            "gridcolor": "white",
            "linecolor": "white",
            "ticks": ""
           },
           "bgcolor": "#E5ECF6",
           "radialaxis": {
            "gridcolor": "white",
            "linecolor": "white",
            "ticks": ""
           }
          },
          "scene": {
           "xaxis": {
            "backgroundcolor": "#E5ECF6",
            "gridcolor": "white",
            "gridwidth": 2,
            "linecolor": "white",
            "showbackground": true,
            "ticks": "",
            "zerolinecolor": "white"
           },
           "yaxis": {
            "backgroundcolor": "#E5ECF6",
            "gridcolor": "white",
            "gridwidth": 2,
            "linecolor": "white",
            "showbackground": true,
            "ticks": "",
            "zerolinecolor": "white"
           },
           "zaxis": {
            "backgroundcolor": "#E5ECF6",
            "gridcolor": "white",
            "gridwidth": 2,
            "linecolor": "white",
            "showbackground": true,
            "ticks": "",
            "zerolinecolor": "white"
           }
          },
          "shapedefaults": {
           "line": {
            "color": "#2a3f5f"
           }
          },
          "ternary": {
           "aaxis": {
            "gridcolor": "white",
            "linecolor": "white",
            "ticks": ""
           },
           "baxis": {
            "gridcolor": "white",
            "linecolor": "white",
            "ticks": ""
           },
           "bgcolor": "#E5ECF6",
           "caxis": {
            "gridcolor": "white",
            "linecolor": "white",
            "ticks": ""
           }
          },
          "title": {
           "x": 0.05
          },
          "xaxis": {
           "automargin": true,
           "gridcolor": "white",
           "linecolor": "white",
           "ticks": "",
           "title": {
            "standoff": 15
           },
           "zerolinecolor": "white",
           "zerolinewidth": 2
          },
          "yaxis": {
           "automargin": true,
           "gridcolor": "white",
           "linecolor": "white",
           "ticks": "",
           "title": {
            "standoff": 15
           },
           "zerolinecolor": "white",
           "zerolinewidth": 2
          }
         }
        },
        "title": {
         "text": "Totale aantal punten dat een land in de finale heeft gekregen per jaar"
        },
        "updatemenus": [
         {
          "buttons": [
           {
            "args": [
             null,
             {
              "frame": {
               "duration": 500,
               "redraw": true
              },
              "fromcurrent": true,
              "mode": "immediate",
              "transition": {
               "duration": 500,
               "easing": "linear"
              }
             }
            ],
            "label": "&#9654;",
            "method": "animate"
           },
           {
            "args": [
             [
              null
             ],
             {
              "frame": {
               "duration": 0,
               "redraw": true
              },
              "fromcurrent": true,
              "mode": "immediate",
              "transition": {
               "duration": 0,
               "easing": "linear"
              }
             }
            ],
            "label": "&#9724;",
            "method": "animate"
           }
          ],
          "direction": "left",
          "pad": {
           "r": 10,
           "t": 70
          },
          "showactive": false,
          "type": "buttons",
          "x": 0.1,
          "xanchor": "right",
          "y": 0,
          "yanchor": "top"
         }
        ]
       }
      }
     },
     "metadata": {},
     "output_type": "display_data"
    }
   ],
   "source": [
    "points_per_year['Year'] = pd.Categorical(points_per_year['Year'], ordered=True)\n",
    "year_order = [year for year in range(1975, 2019)]\n",
    "\n",
    "fig_per_year = px.choropleth(points_per_year, \n",
    "                    locationmode='country names', \n",
    "                    locations='Country', \n",
    "                    color='Points',\n",
    "                    animation_frame='Year',\n",
    "                    category_orders={'Year':year_order},\n",
    "                    title='Totale aantal punten dat een land in de finale heeft gekregen per jaar',\n",
    "                    height=1000)\n",
    "fig_per_year.show()"
   ]
  }
 ],
 "metadata": {
  "kernelspec": {
   "display_name": "base",
   "language": "python",
   "name": "python3"
  },
  "language_info": {
   "codemirror_mode": {
    "name": "ipython",
    "version": 3
   },
   "file_extension": ".py",
   "mimetype": "text/x-python",
   "name": "python",
   "nbconvert_exporter": "python",
   "pygments_lexer": "ipython3",
   "version": "3.10.9"
  },
  "orig_nbformat": 4
 },
 "nbformat": 4,
 "nbformat_minor": 2
}
